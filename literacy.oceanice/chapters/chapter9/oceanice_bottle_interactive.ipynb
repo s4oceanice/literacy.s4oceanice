{
  "cells": [
    {
      "cell_type": "markdown",
      "metadata": {
        "id": "9uMWnzHcEbwx"
      },
      "source": [
        "# **Interactive visualization of CCHDO Bottle Data** #"
      ]
    },
    {
      "cell_type": "markdown",
      "metadata": {},
      "source": [
        "For an interactive version of this page please visit the Google Colab:  \n",
        "[<img src=\"https://colab.research.google.com/img/colab_favicon_256px.png\" height=\"35px\" align=CENTER> Open in Google Colab ](https://colab.research.google.com/drive/1CPCfwP2tI1EbH0h7-2dEyMa5qgSn3Yg3)<br>\n",
        "<sub>(To open link in new tab press Ctrl + click)</sub>"
      ]
    },
    {
      "cell_type": "markdown",
      "metadata": {},
      "source": [
        "Alternatively this notebook can be opened with Binder by following the link:\n",
        "[Interactive visualization of CCHDO Bottle Data](https://mybinder.org/v2/gh/s4oceanice/literacy.s4oceanice/test?urlpath=%2Fdoc%2Ftree%2Fnotebooks%2Foceanice_bottle_interactive.ipynb)"
      ]
    },
    {
      "cell_type": "markdown",
      "metadata": {
        "id": "4UtOzt9kEddD"
      },
      "source": [
        "**Purpose**"
      ]
    },
    {
      "cell_type": "markdown",
      "metadata": {
        "id": "FNliRoXNEgPN"
      },
      "source": [
        "This notebook provides an interactively explore Bottle/CTD hydrographic measurements delivered via ERDDAP.\n",
        "\n",
        "Bottle/CTD hydrography is the gold standard for detecting changes in water-mass properties, ventilation, deoxygenation, nutrient shifts and the ocean carbon system. It also provides essential calibration and validation for autonomous platforms and numerical models. By combining sensor profiles with discrete chemistry, these data enable robust assessments of variability and trends on seasonal to decadal scales, directly supporting climate and biogeochemical research.\n",
        "\n",
        "In this notebook, the user can load a specific time window and visualize or compare physical variables (temperature, salinity, pressure) alongside  biogeochemical tracers (oxygen, nutrients, CFCs, SF₆, DIC/alkalinity, pH).\n"
      ]
    },
    {
      "cell_type": "markdown",
      "metadata": {
        "id": "lIaD-sDIEmG_"
      },
      "source": [
        "**Data sources**"
      ]
    },
    {
      "cell_type": "markdown",
      "metadata": {
        "id": "mXDO0zK8Em0o"
      },
      "source": [
        "The data used in this notebook comes from the **CCHDO Bottle collection** served on the OCEAN ICE ERDDAP: https://er1.s4oceanice.eu/erddap/tabledap/CCHDO_Bottle.html\n",
        "\n",
        "CCHDO Bottle data are discrete water samples collected at specific depths using a CTD/rosette system . This instrument profiles conductivity–temperature–depth while triggering Niskin bottles to capture water for laboratory analyses. The combination of high-frequency CTD sensor records with lab-quality measurements of oxygen, nutrients (nitrate, nitrite, phosphate, silicate, ammonium), carbon system variables (DIC, total alkalinity, pH) and transient tracers (CFCs, SF₆) makes this dataset the benchmark for water-mass characterization and carbon-cycle diagnostics.\n",
        "\n",
        "\n",
        "These data are curated by the **CLIVAR & Carbon Hydrographic Data Office (CCHDO)** at Scripps, which serves as the data assembly center for global repeat hydrography programs (WOCE, CLIVAR, GO-SHIP. CCHDO provides standardized, high.quality cruise datasets enabilng long-term, climate-grade analyses of ocean change. The office currently stewards data from thousands of cruises across dozen of countries, underpinning much of the ship-based hydrographic scence community."
      ]
    },
    {
      "cell_type": "markdown",
      "metadata": {
        "id": "eWt2IdweEq4h"
      },
      "source": [
        "**Instructions for using this Notebook**"
      ]
    },
    {
      "cell_type": "markdown",
      "metadata": {
        "id": "Y-kJfRaMErYO"
      },
      "source": [
        "To use this interactive notebook, simply run each code cell by clicking the **Play button** (▶️) on the left side of each grey code block. This ensure all features function correctly."
      ]
    },
    {
      "cell_type": "markdown",
      "metadata": {
        "id": "hP3TLgVHEw6I"
      },
      "source": [
        "**Explaining the code**"
      ]
    },
    {
      "cell_type": "markdown",
      "metadata": {
        "id": "Poo-ZxQB5lN7"
      },
      "source": [
        "\n",
        "**1.   Install required libraries**"
      ]
    },
    {
      "cell_type": "markdown",
      "metadata": {
        "id": "a0ac3f8b"
      },
      "source": [
        "This first block loads the necessary Python packages to access and visualize chemical and physical oceanography data from the CCHDO Bottle database.\n",
        "\n",
        "**Libraries include:**\n",
        "\n",
        "- Data handling and manipulation: [pandas](https://pandas.pydata.org/pandas-docs/stable/), [numpy](https://numpy.org/doc/stable/)\n",
        "- Plotting: [matplotlib.pyplot](https://matplotlib.org/stable/api/_as_gen/matplotlib.pyplot.html)\n",
        "- Interactive controls: [ipywidgets](https://ipywidgets.readthedocs.io/en/stable/)"
      ]
    },
    {
      "cell_type": "code",
      "execution_count": null,
      "metadata": {
        "cellView": "form",
        "id": "CIR9BviROiEm"
      },
      "outputs": [],
      "source": [
        "# @title\n",
        "import pandas as pd\n",
        "import matplotlib.pyplot as plt\n",
        "import numpy as np\n",
        "from ipywidgets import (\n",
        "    FloatSlider,\n",
        "    Text,\n",
        "    HBox,\n",
        "    Layout,\n",
        "    Output,\n",
        "    VBox,\n",
        "    HBox,\n",
        "    HTML,\n",
        "    Label,\n",
        "    Dropdown\n",
        ")\n",
        "\n",
        "api_url = 'https://er1.s4oceanice.eu/erddap/tabledap/CCHDO_Bottle.csv?time%2Cdepth%2Cpressure%2Cctd_temperature%2Cctd_salinity%2Cbottle_salinity%2Cctd_oxygen%2Coxygen%2Csilicate%2Cammonium%2Cnitrate%2Cnitrite%2Cphosphate%2Ccfc_11%2Ccfc_12%2Ccfc_113%2Csulfur_hexifluoride%2Ctotal_carbon%2Ctotal_alkalinity%2Cph_total_h_scale%2Cph_temperature%2Cctd_transmissometer_raw%2Cnitrous_oxide&time%3E=2024-03-21T00%3A00%3A00Z&time%3C=2024-03-28T05%3A31%3A00Z'\n",
        "\n",
        "try:\n",
        "  # Specify dtype for 'time' as string to ensure it's read correctly\n",
        "  df_api = pd.read_csv(api_url, dtype={'time': str})\n",
        "except Exception as e:\n",
        "  print('ERROR: ', e)\n",
        "\n",
        "units = {\n",
        "    'pressure': 'dbar',\n",
        "    'ctd_temperature': '°C',\n",
        "    'ctd_salinity': 'PSU',\n",
        "    'bottle_salinity': 'PSU',\n",
        "    'ctd_oxygen': 'micromol/kg',\n",
        "    'oxygen': 'micromol/kg',\n",
        "    'silicate': 'micromol/kg',\n",
        "    'ammonium': 'micromol/kg',\n",
        "    'nitrate': 'micromol/kg',\n",
        "    'nitrite': 'micromol/kg',\n",
        "    'phosphate': 'micromol/kg',\n",
        "    'cfc_11': 'mol/kg',\n",
        "    'cfc_12': 'mol/kg',\n",
        "    'cfc_113': 'mol/kg',\n",
        "    'sulfur_hexifluoride': 'fmol/kg',\n",
        "    'total_carbon': 'micromol/kg',\n",
        "    'total_alkalinity': 'micromol/kg',\n",
        "    'ph_total_h_scale': 'pH',\n",
        "    'ph_temperature': '°C',\n",
        "    'nitrous_oxide': 'nmol/kg'\n",
        "}"
      ]
    },
    {
      "cell_type": "markdown",
      "metadata": {
        "id": "XJQGclJagzU3"
      },
      "source": [
        "**2. Create variable selection dropdown**"
      ]
    },
    {
      "cell_type": "markdown",
      "metadata": {
        "id": "NX3JgNOmi9Zm"
      },
      "source": [
        "This code block generates a dropdown widget listing all available variables (excluding time and depth) to allow the user to choose which parameter to visualize."
      ]
    },
    {
      "cell_type": "code",
      "execution_count": null,
      "metadata": {
        "cellView": "form",
        "id": "d37e933f"
      },
      "outputs": [],
      "source": [
        "# @title\n",
        "column_dropdown = Dropdown(\n",
        "    options=df_api.columns.tolist()[2:],\n",
        "    disabled=False,\n",
        ")"
      ]
    },
    {
      "cell_type": "markdown",
      "metadata": {
        "id": "KxnE0-MwjELw"
      },
      "source": [
        "**3. Plot update function and interactive visualization**"
      ]
    },
    {
      "cell_type": "markdown",
      "metadata": {
        "id": "MFZyA1sUomaj"
      },
      "source": [
        "This section builds the interactive plotting engine. Based on the selected variables, it formats the dataset and generates a **scatter plot of the variable versus time and depth**, with a color scale representing parameter values and units."
      ]
    },
    {
      "cell_type": "code",
      "execution_count": null,
      "metadata": {
        "cellView": "form",
        "colab": {
          "base_uri": "https://localhost:8080/",
          "height": 894,
          "referenced_widgets": [
            "defd6485138f49edbf6b717754a0cf73",
            "aefc8eaf968d42db8a4f027f7beae031",
            "717edbb826a048ce8c5da6330a48c014",
            "e44acc937fca454493bf8f0a714098c7",
            "9469b8aa1cfc4da5b0a53ced19b5a024"
          ]
        },
        "id": "24b1f224",
        "outputId": "4956ce21-d9ab-49c7-a414-e2cc4f0060e7"
      },
      "outputs": [
        {
          "data": {
            "application/vnd.jupyter.widget-view+json": {
              "model_id": "defd6485138f49edbf6b717754a0cf73",
              "version_major": 2,
              "version_minor": 0
            },
            "text/plain": [
              "Dropdown(options=('pressure', 'ctd_temperature', 'ctd_salinity', 'bottle_salinity', 'ctd_oxygen', 'oxygen', 's…"
            ]
          },
          "metadata": {},
          "output_type": "display_data"
        },
        {
          "data": {
            "application/vnd.jupyter.widget-view+json": {
              "model_id": "e44acc937fca454493bf8f0a714098c7",
              "version_major": 2,
              "version_minor": 0
            },
            "text/plain": [
              "Output()"
            ]
          },
          "metadata": {},
          "output_type": "display_data"
        },
        {
          "name": "stderr",
          "output_type": "stream",
          "text": [
            "/tmp/ipython-input-175304960.py:10: UserWarning: Could not infer format, so each element will be parsed individually, falling back to `dateutil`. To ensure parsing is consistent and as-expected, please specify a format.\n",
            "  df_api['time'] = pd.to_datetime(df_api['time'], errors='coerce')\n"
          ]
        }
      ],
      "source": [
        "# @title\n",
        "# Create an Output widget to display the plot\n",
        "output_widget = Output()\n",
        "\n",
        "def update_plot(change):\n",
        "    # Replace 'Z' with '+00:00' in the 'time' column for consistent timezone format\n",
        "    df_api['time'] = df_api['time'].astype(str).str.replace('Z', '+00:00')\n",
        "\n",
        "    # Convert 'time' column to datetime objects, coercing errors\n",
        "    df_api['time'] = pd.to_datetime(df_api['time'], errors='coerce')\n",
        "\n",
        "    # Drop the first row which contains units\n",
        "    df_plot = df_api.drop(0).copy()\n",
        "\n",
        "    # Convert 'depth' column to numeric, coercing errors\n",
        "    df_plot['depth'] = pd.to_numeric(df_plot['depth'], errors='coerce')\n",
        "\n",
        "    # Remove rows with NaN values in 'depth' after coercion\n",
        "    df_plot.dropna(subset=['depth'], inplace=True)\n",
        "\n",
        "    # Get the selected column value from the dropdown\n",
        "    selected_column = column_dropdown.value\n",
        "\n",
        "    # Convert the selected column to numeric, coercing errors\n",
        "    df_plot[selected_column] = pd.to_numeric(df_plot[selected_column], errors='coerce')\n",
        "\n",
        "    # Remove rows with NaN values in 'time' or the selected column after coercion\n",
        "    df_plot.dropna(subset=['time', selected_column], inplace=True)\n",
        "\n",
        "    # Get the unit from the units dictionary\n",
        "    unit = units.get(selected_column, '') # Use .get() to avoid errors if key not found\n",
        "\n",
        "    # Clear the previous output and display the new plot within the Output widget\n",
        "    with output_widget:\n",
        "        output_widget.clear_output(wait=True)\n",
        "        plt.figure(figsize=(12, 8))\n",
        "        # Use 'time' for x-axis, 'depth' for y-axis, and selected_column for color, set marker to 's' for squares\n",
        "        plt.scatter(df_plot['time'], df_plot['depth'], c=df_plot[selected_column], cmap='viridis', s=50, edgecolors='none', marker='s')\n",
        "\n",
        "        # Set labels for the axes\n",
        "        plt.xlabel('Time')\n",
        "        plt.ylabel('Depth (m)')\n",
        "        plt.title(f'Scatter plot of {selected_column} vs. Time and Depth')\n",
        "\n",
        "        # Add colorbar with the correct label and unit\n",
        "        cbar = plt.colorbar(label=f'{selected_column} ({unit})')\n",
        "\n",
        "        # Explicitly set font properties for the colorbar label\n",
        "        cbar.set_label(f'{selected_column} ({unit})', fontfamily='DejaVu Sans')\n",
        "\n",
        "        plt.grid(True)\n",
        "        plt.tight_layout()\n",
        "        plt.show()\n",
        "\n",
        "# Observe the dropdown for changes and update the plot\n",
        "column_dropdown.observe(update_plot, names='value')\n",
        "\n",
        "# Display the dropdown and the output widget\n",
        "display(column_dropdown, output_widget)\n",
        "\n",
        "# Initial plot display\n",
        "update_plot(None)"
      ]
    }
  ],
  "metadata": {
    "colab": {
      "provenance": []
    },
    "kernelspec": {
      "display_name": "Python 3",
      "name": "python3"
    },
    "language_info": {
      "name": "python"
    },
    "widgets": {
      "application/vnd.jupyter.widget-state+json": {
        "717edbb826a048ce8c5da6330a48c014": {
          "model_module": "@jupyter-widgets/controls",
          "model_module_version": "1.5.0",
          "model_name": "DescriptionStyleModel",
          "state": {
            "_model_module": "@jupyter-widgets/controls",
            "_model_module_version": "1.5.0",
            "_model_name": "DescriptionStyleModel",
            "_view_count": null,
            "_view_module": "@jupyter-widgets/base",
            "_view_module_version": "1.2.0",
            "_view_name": "StyleView",
            "description_width": ""
          }
        },
        "9469b8aa1cfc4da5b0a53ced19b5a024": {
          "model_module": "@jupyter-widgets/base",
          "model_module_version": "1.2.0",
          "model_name": "LayoutModel",
          "state": {
            "_model_module": "@jupyter-widgets/base",
            "_model_module_version": "1.2.0",
            "_model_name": "LayoutModel",
            "_view_count": null,
            "_view_module": "@jupyter-widgets/base",
            "_view_module_version": "1.2.0",
            "_view_name": "LayoutView",
            "align_content": null,
            "align_items": null,
            "align_self": null,
            "border": null,
            "bottom": null,
            "display": null,
            "flex": null,
            "flex_flow": null,
            "grid_area": null,
            "grid_auto_columns": null,
            "grid_auto_flow": null,
            "grid_auto_rows": null,
            "grid_column": null,
            "grid_gap": null,
            "grid_row": null,
            "grid_template_areas": null,
            "grid_template_columns": null,
            "grid_template_rows": null,
            "height": null,
            "justify_content": null,
            "justify_items": null,
            "left": null,
            "margin": null,
            "max_height": null,
            "max_width": null,
            "min_height": null,
            "min_width": null,
            "object_fit": null,
            "object_position": null,
            "order": null,
            "overflow": null,
            "overflow_x": null,
            "overflow_y": null,
            "padding": null,
            "right": null,
            "top": null,
            "visibility": null,
            "width": null
          }
        },
        "aefc8eaf968d42db8a4f027f7beae031": {
          "model_module": "@jupyter-widgets/base",
          "model_module_version": "1.2.0",
          "model_name": "LayoutModel",
          "state": {
            "_model_module": "@jupyter-widgets/base",
            "_model_module_version": "1.2.0",
            "_model_name": "LayoutModel",
            "_view_count": null,
            "_view_module": "@jupyter-widgets/base",
            "_view_module_version": "1.2.0",
            "_view_name": "LayoutView",
            "align_content": null,
            "align_items": null,
            "align_self": null,
            "border": null,
            "bottom": null,
            "display": null,
            "flex": null,
            "flex_flow": null,
            "grid_area": null,
            "grid_auto_columns": null,
            "grid_auto_flow": null,
            "grid_auto_rows": null,
            "grid_column": null,
            "grid_gap": null,
            "grid_row": null,
            "grid_template_areas": null,
            "grid_template_columns": null,
            "grid_template_rows": null,
            "height": null,
            "justify_content": null,
            "justify_items": null,
            "left": null,
            "margin": null,
            "max_height": null,
            "max_width": null,
            "min_height": null,
            "min_width": null,
            "object_fit": null,
            "object_position": null,
            "order": null,
            "overflow": null,
            "overflow_x": null,
            "overflow_y": null,
            "padding": null,
            "right": null,
            "top": null,
            "visibility": null,
            "width": null
          }
        },
        "defd6485138f49edbf6b717754a0cf73": {
          "model_module": "@jupyter-widgets/controls",
          "model_module_version": "1.5.0",
          "model_name": "DropdownModel",
          "state": {
            "_dom_classes": [],
            "_model_module": "@jupyter-widgets/controls",
            "_model_module_version": "1.5.0",
            "_model_name": "DropdownModel",
            "_options_labels": [
              "pressure",
              "ctd_temperature",
              "ctd_salinity",
              "bottle_salinity",
              "ctd_oxygen",
              "oxygen",
              "silicate",
              "ammonium",
              "nitrate",
              "nitrite",
              "phosphate",
              "cfc_11",
              "cfc_12",
              "cfc_113",
              "sulfur_hexifluoride",
              "total_carbon",
              "total_alkalinity",
              "ph_total_h_scale",
              "ph_temperature",
              "ctd_transmissometer_raw",
              "nitrous_oxide"
            ],
            "_view_count": null,
            "_view_module": "@jupyter-widgets/controls",
            "_view_module_version": "1.5.0",
            "_view_name": "DropdownView",
            "description": "",
            "description_tooltip": null,
            "disabled": false,
            "index": 16,
            "layout": "IPY_MODEL_aefc8eaf968d42db8a4f027f7beae031",
            "style": "IPY_MODEL_717edbb826a048ce8c5da6330a48c014"
          }
        },
        "e44acc937fca454493bf8f0a714098c7": {
          "model_module": "@jupyter-widgets/output",
          "model_module_version": "1.0.0",
          "model_name": "OutputModel",
          "state": {
            "_dom_classes": [],
            "_model_module": "@jupyter-widgets/output",
            "_model_module_version": "1.0.0",
            "_model_name": "OutputModel",
            "_view_count": null,
            "_view_module": "@jupyter-widgets/output",
            "_view_module_version": "1.0.0",
            "_view_name": "OutputView",
            "layout": "IPY_MODEL_9469b8aa1cfc4da5b0a53ced19b5a024",
            "msg_id": "",
            "outputs": [
              {
                "data": {
                  "image/png": "iVBORw0KGgoAAAANSUhEUgAABGMAAAMWCAYAAABV5Uv4AAAAOnRFWHRTb2Z0d2FyZQBNYXRwbG90bGliIHZlcnNpb24zLjEwLjAsIGh0dHBzOi8vbWF0cGxvdGxpYi5vcmcvlHJYcgAAAAlwSFlzAAAPYQAAD2EBqD+naQAAkOtJREFUeJzs3Xl4FFXa9/FfJ2YD0hCQJCwhxIAsQgARJaIQBBIlIyAIiMiqAhpEwG0YkVUMoogosgkDPAMoyMA4AgrBsEpUBkE2QWURHAmILJE1obvePzLplyYJdIekOxW+n+uq60lXnb7rVJ9O5uH2PudYDMMwBAAAAAAAAI/w8XYHAAAAAAAAbiYkYwAAAAAAADyIZAwAAAAAAIAHkYwBAAAAAADwIJIxAAAAAAAAHkQyBgAAAAAAwINIxgAAAAAAAHgQyRgAAAAAAAAPIhkDAAAAAADgQSRjAACKi4tTXFyct7vh5NixY3r00UdVoUIFWSwWvfvuu97u0jUV5WfYu3dvVa9e3fH60KFDslgsevvttwsl/ty5c2WxWHTo0CHHuRt5nqv7ezMaNWqULBaLt7vhFSVl/OPi4lSvXj1vdwMAUEKRjAFQYu3cuVOPPvqoIiMjFRgYqCpVqqhNmzZ6//33i+yeCxcuzDNp8Ntvv2nUqFHavn17kd3bG86fP69Ro0Zp3bp1hR57yJAhWrVqlYYNG6Z//OMfevDBB4usD5s3b9aoUaN0+vTpAsdA/orye+JJ1atXl8Viue4xd+5cb3fVFOLi4hyfmY+Pj6xWq2rVqqUePXooJSXFI30oqX+bAQDF3y3e7gAAFIXNmzerZcuWqlatmp5++mmFh4fryJEj+vrrrzV58mQ999xzRXLfhQsXateuXRo8eLDT+d9++02jR49W9erV1bBhwyK5tzecP39eo0ePlqRCrwpJTU1V+/bt9eKLLxZ5HzZv3qzRo0erd+/eKleuXIFilDSrV68u8Hs//PBD2e12x+ui/J540rvvvquzZ886Xq9cuVIfffSRJk2apFtvvdVx/t5779UTTzyhv/71r97opqlUrVpVycnJkqRz587p559/1tKlSzV//nx16dJF8+fPl5+fX5Hdv6T+bQYAFH8kYwCUSOPGjVPZsmW1ZcuWXP+4Pn78uHc6VQTOnTun0qVLe7sbReL48eMkRrzI39+/wO8tyn88e1OHDh2cXqenp+ujjz5Shw4d8pyWc8st/L9Z11O2bFk98cQTTufGjx+vQYMGaerUqapevbrefPNNL/UOAICiwzQlACXS/v37dccdd+T5j/nQ0NBc5+bPn6+7775bpUqVUkhIiJo3b+5UGfDpp58qMTFRlStXVkBAgKKjozV27FjZbDZHm7i4OK1YsUK//PKLo/S+evXqWrdunZo0aSJJ6tOnT55TGb755hs9+OCDKlu2rEqVKqUWLVroq6++cupjzhoUe/bs0eOPP66QkBDdd999+X4GOeuAbNiwQf3791eFChVktVrVs2dPnTp16rqf4fHjx/Xkk08qLCxMgYGBatCggebNm+e4fujQIVWsWFGSNHr0aMdzjRo16ppxDxw4oM6dO6t8+fIqVaqUmjZtqhUrVuTqt2EY+uCDDxxx8+JKH1JTU3X//ferdOnSKleunNq3b68ffvjBcX3UqFF66aWXJElRUVGOGDnrp8yZM0cPPPCAQkNDFRAQoLp162ratGnX/fxc4cr3ylWGYahfv37y9/fX0qVLJUk7duxQ7969ddtttykwMFDh4eHq27ev/vjjj+vGu3rNmHXr1slisWjx4sUaN26cqlatqsDAQLVq1Uo///yz03uvXDPkWmM0Z84cWSwWbdu2Ldf933jjDfn6+uq///1vnv1bsmSJLBaL1q9fn+vajBkzZLFYtGvXLknZSZM+ffqoatWqCggIUKVKldS+fXunNXIKW15rxlgsFg0cOFCffPKJ6tatq6CgIMXGxmrnzp2OfteoUUOBgYGKi4vLs3+u/K3IS2ZmpkaMGKHGjRurbNmyKl26tO6//36tXbvWqd2V6xHNnDlT0dHRCggIUJMmTbRly5Zccf/1r3+pXr16CgwMVL169bRs2TI3PqW8+fr66r333lPdunU1ZcoUnTlzxun6/Pnz1bhxYwUFBal8+fJ67LHHdOTIEac2Oeu9bN26Vffee6+CgoIUFRWl6dOnO9q48rdZkvbs2aOWLVuqVKlSqlKliiZMmHDDzwgAAP/JBkCJFBkZqbS0NO3ateu6CzCOHj1ao0aN0r333qsxY8bI399f33zzjVJTUxUfHy8pO0FQpkwZDR06VGXKlFFqaqpGjBihjIwMvfXWW5KkV199VWfOnNGvv/6qSZMmSZLKlCmjOnXqaMyYMRoxYoT69eun+++/X1L2VAYpO1nw0EMPqXHjxho5cqR8fHwcCYCNGzfq7rvvdupv586dVbNmTb3xxhsyDOO6n8XAgQNVrlw5jRo1Svv27dO0adP0yy+/OP5xnZcLFy4oLi5OP//8swYOHKioqCh98skn6t27t06fPq3nn39eFStW1LRp0/TMM8/okUceUceOHSVJMTEx+fbl2LFjuvfee3X+/HkNGjRIFSpU0Lx589SuXTstWbJEjzzyiJo3b65//OMf6tGjh9q0aaOePXvmG+96fVizZo0eeugh3XbbbRo1apQuXLig999/X82aNdN3332n6tWrq2PHjvrxxx9zTTfJSSBMmzZNd9xxh9q1a6dbbrlFn332mZ599lnZ7XYlJSVd9/O/Fle+V66w2Wzq27evFi1apGXLlikxMVGSlJKSogMHDqhPnz4KDw/X7t27NXPmTO3evVtff/11gRaYHT9+vHx8fPTiiy/qzJkzmjBhgrp3765vvvkmz/bXGqOoqCglJSVpwYIFatSokdP7FixYoLi4OFWpUiXPuImJiSpTpowWL16sFi1aOF1btGiR7rjjDsfvfqdOnbR7924999xzql69uo4fP66UlBQdPnzY4wvNbty4Uf/+978d353k5GT95S9/0csvv6ypU6fq2Wef1alTpzRhwgT17dtXqampjve6+7fiShkZGZo1a5a6deump59+Wn/++admz56thIQEffvtt7mm6CxcuFB//vmn+vfvL4vFogkTJqhjx446cOCAo/Jp9erV6tSpk+rWravk5GT98ccfjqTXjfL19VW3bt302muvadOmTY7v9Lhx4/Taa6+pS5cueuqpp/T777/r/fffV/PmzbVt2zanBPypU6fUtm1bdenSRd26ddPixYv1zDPPyN/fX3379r3u3+acGA8++KA6duyoLl26aMmSJXrllVdUv359PfTQQzf8nACAm5gBACXQ6tWrDV9fX8PX19eIjY01Xn75ZWPVqlVGZmamU7uffvrJ8PHxMR555BHDZrM5XbPb7Y6fz58/n+se/fv3N0qVKmVcvHjRcS4xMdGIjIzM1XbLli2GJGPOnDm57lGzZk0jISEh1/2ioqKMNm3aOM6NHDnSkGR069bNpc9gzpw5hiSjcePGTs89YcIEQ5Lx6aefOs61aNHCaNGiheP1u+++a0gy5s+f7ziXmZlpxMbGGmXKlDEyMjIMwzCM33//3ZBkjBw50qU+DR482JBkbNy40XHuzz//NKKioozq1as7jYEkIykp6boxr9WHhg0bGqGhocYff/zhOPf9998bPj4+Rs+ePR3n3nrrLUOScfDgwVwx8hr7hIQE47bbbnM6d/Vn6ApXv1e9evVy+l4dPHjQkGS89dZbRlZWltG1a1cjKCjIWLVq1XXjf/TRR4YkY8OGDY5zOd+VK5//6udZu3atIcmoU6eOcenSJcf5yZMnG5KMnTt35tvfa41Rt27djMqVKzuN/XfffZfn70te7w0NDTUuX77sOHf06FHDx8fHGDNmjGEYhnHq1CnHZ1XYrvW9yfl9vZIkIyAgwKn9jBkzDElGeHi44/fKMAxj2LBhTrHd+VuRl8uXLzuNm2FkfzZhYWFG3759HedyvlsVKlQwTp486Tj/6aefGpKMzz77zHGuYcOGRqVKlYzTp087zq1evdqQlOffwau1aNHCuOOOO/K9vmzZMkOSMXnyZMMwDOPQoUOGr6+vMW7cOKd2O3fuNG655Ran8y1atDAkGRMnTnScu3TpkuNvQs7fxPz+Nl8Z4//+7/+cYoSHhxudOnW67vMBAHAtTFMCUCK1adNGaWlpateunb7//ntNmDBBCQkJqlKliv7973872v3rX/+S3W7XiBEj5OPj/CfxyqqBoKAgx89//vmnTpw4ofvvv1/nz5/X3r17C9zP7du366efftLjjz+uP/74QydOnNCJEyd07tw5tWrVShs2bHBaCFWSBgwY4NY9+vXr57SGxzPPPKNbbrlFK1euzPc9K1euVHh4uLp16+Y45+fnp0GDBuns2bN5Tg1xxcqVK3X33Xc7Ta8qU6aM+vXrp0OHDmnPnj0FipuXo0ePavv27erdu7fKly/vOB8TE6M2bdpc8/mvdOXYnzlzRidOnFCLFi104MCBXNMn3HWj36vMzEx17txZy5cv18qVKx2VXHnFv3jxok6cOKGmTZtKkr777rsC9blPnz5O68nkVBMcOHCgQPF69uyp3377zWm6zIIFCxQUFKROnTpd871du3bV8ePHnXZpWrJkiex2u7p27Sop+zPw9/fXunXrXJqeV9RatWrlVI1zzz33SMqu3gkODs51PudzLcjfiiv5+vo6xs1ut+vkyZO6fPmy7rrrrjy/C127dlVISIjj9dXjnPP71atXL5UtW9bRrk2bNqpbt65bn0l+ypQpIyn7d0OSli5dKrvdri5dujie/8SJEwoPD1fNmjVzTbm65ZZb1L9/f8drf39/9e/fX8ePH9fWrVtd7sOVa9r4+/vr7rvvLvD3HQCAHExTAlBiNWnSREuXLlVmZqa+//57LVu2TJMmTdKjjz6q7du3q27dutq/f798fHyu+4+H3bt3a/jw4UpNTVVGRobTtRv5B/lPP/0kSerVq1e+bc6cOeP0j6KoqCi37lGzZk2n12XKlFGlSpWuuV7GL7/8opo1a+ZKUNWpU8dxvSB++eUXxz8y84t7vWll7txLkmrVqpXn/VatWuXSAshfffWVRo4cqbS0NJ0/f97p2pkzZ5z+IequG/1eJScn6+zZs/r888/z3KXo5MmTGj16tD7++ONcC1cX9HtbrVo1p9c5382CJjratGmjSpUqacGCBWrVqpXsdrs++ugjtW/f3ik5kZectVMWLVqkVq1aScqeotSwYUPdfvvtkqSAgAC9+eabeuGFFxQWFqamTZvqL3/5i3r27Knw8PAC9flGXP355Xx/IiIi8jyf87kW5G/F1ebNm6eJEydq7969ysrKcpzP62/K9cY55/fr6r8vUvbvXEGTfVfK2bkq53vw008/yTCMPO8p5V44unLlyrl+v3O+F4cOHXIkJq+latWquabzhYSEaMeOHa49BAAA+SAZA6DE8/f3V5MmTdSkSRPdfvvt6tOnjz755BONHDnSpfefPn1aLVq0kNVq1ZgxYxQdHa3AwEB99913euWVV675X6OvJ+e9b731Vr7bqub81+EcV1Y7oGjt379frVq1Uu3atfXOO+8oIiJC/v7+WrlypSZNmnRDY18Y36uEhAR98cUXmjBhguLi4hQYGOh0vUuXLtq8ebNeeuklNWzYUGXKlJHdbteDDz5Y4L77+vrmed5wYf2i/OI9/vjj+vDDDzV16lR99dVX+u2333LtsJOXgIAAdejQQcuWLdPUqVN17NgxffXVV3rjjTec2g0ePFgPP/yw/vWvf2nVqlV67bXXlJycrNTU1Fxr1RS1/D6/632uBflbcaX58+erd+/e6tChg1566SWFhobK19dXycnJ2r9/v9v98YScBZhr1KghKfszsFgs+vzzz/Ps37Wev6CKw+cAACiZSMYAuKncddddkrJL7CUpOjpadrtde/bsyfcfOOvWrdMff/yhpUuXqnnz5o7zBw8ezNU2vwVR8zsfHR0tSbJarWrdurXLz+GOn376SS1btnS8Pnv2rI4ePaq2bdvm+57IyEjt2LFDdrvdqTomZ+pMZGSkpPyf61px9+3bl+v81XHdkV8fcmLld79bb73V8V/N84vx2Wef6dKlS/r3v//tVClw9XSIgnDne5Wfpk2basCAAfrLX/6izp07a9myZY7tlE+dOqUvv/xSo0eP1ogRIxzvyamw8KTrfU969uypiRMn6rPPPtPnn3+uihUrKiEhwaXYXbt21bx58/Tll1/qhx9+kGEYjilKV4qOjtYLL7ygF154QT/99JMaNmyoiRMnav78+QV6Jk+70b8VS5Ys0W233aalS5c6jYerSemr5fx+5fV9yut3zl02m00LFy5UqVKlHNMao6OjZRiGoqKiHBUu1/Lbb7/lqn778ccfJckxVawgi1gDAFAYWDMGQIm0du3aPP/LZc46ITlTVzp06CAfHx+NGTMmV6VAzvtz/svolfEyMzM1derUXPFLly6d5/SPnH8MnD592ul848aNFR0drbfffttRkn+l33//Pd9ndNXMmTOdpiRMmzZNly9fvuZOIG3btlV6eroWLVrkOHf58mW9//77KlOmjGP3mlKlSknK/VzXivvtt98qLS3Nce7cuXOaOXOmqlevXqC1JvLrQ6VKldSwYUPNmzfP6dquXbu0evVqp2RUfuOT19ifOXNGc+bMcbufV3Pne3UtrVu31scff6wvvvhCPXr0cHyP84ovSe++++4N9Lpgrvc9iYmJUUxMjGbNmqV//vOfeuyxxxxJpetp3bq1ypcvr0WLFmnRokW6++67nabdnD9/XhcvXnR6T3R0tIKDg3Xp0iXHuaNHj+aavlOc3Ojfiry+D998843T76I7rvz9uvJvXkpKyg2v/WSz2TRo0CD98MMPGjRokKxWqySpY8eO8vX11ejRo3N9rw3DyLVl++XLlzVjxgzH68zMTM2YMUMVK1ZU48aNJeX/uw8AQFGjMgZAifTcc8/p/PnzeuSRR1S7dm1lZmZq8+bNWrRokapXr64+ffpIyi5/f/XVVzV27Fjdf//96tixowICArRlyxZVrlxZycnJuvfeexUSEqJevXpp0KBBslgs+sc//pFnsqdx48ZatGiRhg4dqiZNmqhMmTJ6+OGHFR0drXLlymn69OkKDg5W6dKldc899ygqKkqzZs3SQw89pDvuuEN9+vRRlSpV9N///ldr166V1WrVZ599dkOfRWZmplq1aqUuXbpo3759mjp1qu677z61a9cu3/f069dPM2bMUO/evbV161ZVr15dS5Ys0VdffaV3333XsYZDUFCQ6tatq0WLFun2229X+fLlVa9evXzXffnrX/+qjz76SA899JAGDRqk8uXLa968eTp48KD++c9/5lqjxhXX6sNbb72lhx56SLGxsXryyScdW1uXLVtWo0aNcsTI+YfZq6++qscee0x+fn56+OGHFR8fL39/fz388MPq37+/zp49qw8//FChoaGO6qqCcud7dT0dOnTQnDlz1LNnT1mtVs2YMUNWq1XNmzfXhAkTlJWVpSpVqmj16tVuVd4UFle+Jz179tSLL74oSS5NUcrh5+enjh076uOPP9a5c+f09ttvO13/8ccfHd//unXr6pZbbtGyZct07NgxPfbYY452w4YNc3wXPb3dtSt8fHxu6G/FX/7yFy1dulSPPPKIEhMTdfDgQU2fPl1169bNM7njiuTkZCUmJuq+++5T3759dfLkSb3//vu64447XI555swZR3XS+fPn9fPPP2vp0qXav3+/HnvsMY0dO9bRNjo6Wq+//rqGDRumQ4cOqUOHDgoODtbBgwe1bNky9evXz/EdkrLXjHnzzTd16NAh3X777Vq0aJG2b9+umTNnOtaXudbfZgAAipSnt28CAE/4/PPPjb59+xq1a9c2ypQpY/j7+xs1atQwnnvuOePYsWO52v/97383GjVqZAQEBBghISFGixYtjJSUFMf1r776ymjatKkRFBRkVK5c2bFVtiRj7dq1jnZnz541Hn/8caNcuXK5tnf99NNPjbp16xq33HJLrq1Ut23bZnTs2NGoUKGCERAQYERGRhpdunQxvvzyS0ebnK1yf//9d5c+g5ztitevX2/069fPCAkJMcqUKWN0797daatnw8h7W+Zjx44Zffr0MW699VbD39/fqF+/fp7bv27evNlo3Lix4e/v79I21/v37zceffRRo1y5ckZgYKBx9913G8uXL8/VTi5ubX29PqxZs8Zo1qyZERQUZFitVuPhhx829uzZkyvG2LFjjSpVqhg+Pj5OWwr/+9//NmJiYozAwECjevXqxptvvmn8/e9/v+5W0K5w9Xt1ra2trzR16lRDkvHiiy8ahmEYv/76q/HII48Y5cqVM8qWLWt07tzZ+O2333J9Ru5sbf3JJ5843TOnL1d+N67ur2Fc/3ty9OhRw9fX17j99tuv+7ldLSUlxZBkWCwW48iRI07XTpw4YSQlJRm1a9c2SpcubZQtW9a45557jMWLFzu169WrV77bVOenIFtbX/2dzm8s8/u8XflbkRe73W688cYbRmRkpBEQEGA0atTIWL58ucvfrZz+Xz1u//znP406deoYAQEBRt26dY2lS5fmOf55ydk6OucoU6aMUbNmTeOJJ54wVq9ene/7/vnPfxr33XefUbp0aaN06dJG7dq1jaSkJGPfvn1Ose+44w7jP//5jxEbG2sEBgYakZGRxpQpU3LFy+9vc35bb7v6fAAAXIvFMFiBDABKorlz56pPnz7asmWLY60coLg6ceKEKlWqpBEjRui1117zdndgcnFxcTpx4oRjEWAAAIob1owBAABeN3fuXNlsNvXo0cPbXQEAAChyrBkDAEAh+/3332Wz2fK97u/vr/Lly3uwR8VXamqq9uzZo3HjxqlDhw7Fcr0WAACAwkYyBgCAQtakSRP98ssv+V5v0aKF1q1b57kOFWNjxozR5s2b1axZM73//vve7g4AAIBHsGYMAACF7KuvvtKFCxfyvR4SEuLYwQkAAAA3H5IxAAAAAAAAHsQCvgAAAAAAAB7EmjEusNvt+u233xQcHCyLxeLt7gAAAAAA3GAYhv78809VrlxZPj4lrybh4sWLyszM9HY3JGVvVBAYGOjtbhR7JGNc8NtvvykiIsLb3QAAAAAA3IAjR46oatWq3u5Gobp48aKiIsso/Xj+Ozl6Unh4uA4ePEhC5jpIxrggODhYUvYvrtVqLZJ7ZGVlafXq1YqPj5efn1+R3ANFizEsGRhH82MMSwbG0fwYQ/NjDEsGxjFbRkaGIiIiHP+2K0kyMzOVftymX7ZWlzXYu1U/GX/aFdn4kDIzM0nGXAfJGBfkTE2yWq1FmowpVaqUrFbrTf1H0swYw5KBcTQ/xrBkYBzNjzE0P8awZGAcnZXkZSeswT6yBvt6uxtwEckYAAAAAABMzi5Ddtm93ge4puStXAQAAAAAAFCMkYwBAAAAAADwIKYpAQAAAABgcjbDLpuXZwnZDO9OkzITKmMAAAAAAAA8iGQMAAAAAACABzFNCQAAAAAAk8veTcm785S8fX8zoTIGAAAAAADAg6iMAQAAAADA5Oyyy9vL53q/B+ZBZQwAAAAAAIAHkYwBAAAAAADwIKYpAQAAAABgcjbDkM3w7gK63r6/mVAZAwAAAAAA4EEkYwAAAAAAADyIaUoAAAAAAJicXYbs8u40IW/f30yojAEAAAAAAPAgkjEAAAAAAAAexDQlAAAAAABMzi5DNqYpmQaVMQAAAAAAAB5EZQwAAAAAACbHAr7mQmUMAAAAAADwuOTkZDVp0kTBwcEKDQ1Vhw4dtG/fPqc2/fv3V3R0tIKCglSxYkW1b99ee/fudWqzZcsWtWrVSuXKlVNISIgSEhL0/fffO7XZsWOH7r//fgUGBioiIkITJkwo8ue7FpIxAAAAAADA49avX6+kpCR9/fXXSklJUVZWluLj43Xu3DlHm8aNG2vOnDn64YcftGrVKhmGofj4eNlsNknS2bNn9eCDD6patWr65ptvtGnTJgUHByshIUFZWVmSpIyMDMXHxysyMlJbt27VW2+9pVGjRmnmzJleeW6JaUoAAAAAAJiezTBkM7w7Tcjd+3/xxRdOr+fOnavQ0FBt3bpVzZs3lyT169fPcb169ep6/fXX1aBBAx06dEjR0dHau3evTp48qTFjxigiIkKSNHLkSMXExOiXX35RjRo1tGDBAmVmZurvf/+7/P39dccdd2j79u165513nOJ7EpUxAAAAAADA686cOSNJKl++fJ7Xz507pzlz5igqKsqReKlVq5YqVKig2bNnKzMzUxcuXNDs2bNVp04dVa9eXZKUlpam5s2by9/f3xErISFB+/bt06lTp4r2ofJBZQwAAADctu9I5Wtet9kCJU3yTGcAAMVKRkaG0+uAgAAFBARc8z12u12DBw9Ws2bNVK9ePadrU6dO1csvv6xz586pVq1aSklJcSRWgoODtW7dOnXo0EFjx46VJNWsWVOrVq3SLbdkpzzS09MVFRXlFDMsLMxxLSQkpOAPW0DFpjJm/PjxslgsGjx4sONcXFycLBaL0zFgwACn9x0+fFiJiYkqVaqUQkND9dJLL+ny5ctObdatW6c777xTAQEBqlGjhubOneuBJwIAAAAAwDPsxeSQpIiICJUtW9ZxJCcnX7f/SUlJ2rVrlz7++ONc17p3765t27Zp/fr1uv3229WlSxddvHhRknThwgU9+eSTatasmb7++mt99dVXqlevnhITE3XhwgU3PkHPKhaVMVu2bNGMGTMUExOT69rTTz+tMWPGOF6XKlXK8bPNZlNiYqLCw8O1efNmHT16VD179pSfn5/eeOMNSdLBgweVmJioAQMGaMGCBfryyy/11FNPqVKlSkpISCj6hwMAAAAA4CZy5MgRWa1Wx+vrVcUMHDhQy5cv14YNG1S1atVc13OSOjVr1lTTpk0VEhKiZcuWqVu3blq4cKEOHTqktLQ0+fhk15ssXLhQISEh+vTTT/XYY48pPDxcx44dc4qZ8zo8PPxGH7dAvF4Zc/bsWXXv3l0ffvhhnqVBpUqVUnh4uOO4ckBXr16tPXv2aP78+WrYsKEeeughjR07Vh988IEyMzMlSdOnT1dUVJQmTpyoOnXqaODAgXr00Uc1aRJlswAAAAAAFDar1ep05JeMMQxDAwcO1LJly5SampprKlF+7zEMQ5cuXZIknT9/Xj4+PrJYLI42Oa/t9uxandjYWG3YsMGxu5IkpaSkqFatWl6ZoiQVg2RMUlKSEhMT1bp16zyvL1iwQLfeeqvq1aunYcOG6fz5845raWlpql+/vmOul5S9CE9GRoZ2797taHN17ISEBKWlpRXB0wAAAAAA4Hk2GcXicEdSUpLmz5+vhQsXKjg4WOnp6UpPT3dMLzpw4ICSk5O1detWHT58WJs3b1bnzp0VFBSktm3bSpLatGmjU6dOKSkpST/88IN2796tPn366JZbblHLli0lSY8//rj8/f315JNPavfu3Vq0aJEmT56soUOHFu4guMGr05Q+/vhjfffdd9qyZUue1x9//HFFRkaqcuXK2rFjh1555RXt27dPS5culZS90M6ViRjJeRGea7XJyMjQhQsXFBQUlOu+ly5dcmTZpP+/+FBWVpZTJq0w5cQtqvgoeoxhycA4mh9jWDIwjsVf9gK917qe/V9BGUPz4vewZGAcs93sz19cTZs2TVL2erFXmjNnjnr37q3AwEBt3LhR7777rk6dOqWwsDA1b95cmzdvVmhoqCSpdu3a+uyzzzR69GjFxsbKx8dHjRo10hdffKFKlSpJyp7mtHr1aiUlJalx48a69dZbNWLECK9tay15MRlz5MgRPf/880pJSVFgYN7/Y37lB1O/fn1VqlRJrVq10v79+xUdHV1kfUtOTtbo0aNznV+9erXTmjVFISUlpUjjo+gxhiUD42h+jGHJwDgWZ65N+WYMzY8xLBlu9nG8coZFSWUzsg9v98EdhnHtN1SuXFkrV668bpw2bdqoTZs212wTExOjjRs3utW/ouS1ZMzWrVt1/Phx3XnnnY5zNptNGzZs0JQpU3Tp0iX5+vo6veeee+6RJP3888+Kjo5WeHi4vv32W6c2Vy/Ck99CPVarNc+qGEkaNmyYU7lSRkaGIiIiFB8f77RmTWHKyspSSkqK2rRpIz8/vyK5B4oWY1gyMI7mxxiWDIyjs0O/3e5Su+qVfyzinvx/P/231jWv22wBOrBrPGNoYvwelgyMY7art1oGvM1ryZhWrVpp586dTuf69Omj2rVr65VXXsmViJGk7du3S5Kj1Cg2Nlbjxo3T8ePHHSVKKSkpslqtqlu3rqPN1Zm0lJQUxcbG5tu3/PZA9/PzK/I/YJ64B4oWY1gyMI7mxxiWDIxjNl/fiy618+Rn5U6fGENzYwxLhpt9HG/mZ0fx5LVkTHBwsOrVq+d0rnTp0qpQoYLq1aun/fv3a+HChWrbtq0qVKigHTt2aMiQIWrevLljC+z4+HjVrVtXPXr00IQJE5Senq7hw4crKSnJkUwZMGCApkyZopdffll9+/ZVamqqFi9erBUrVnj8mQEAAAAAKAr2/x3e7gNc49UFfK/F399fa9as0bvvvqtz584pIiJCnTp10vDhwx1tfH19tXz5cj3zzDOKjY1V6dKl1atXL40ZM8bRJioqSitWrNCQIUM0efJkVa1aVbNmzVJCQoI3HgsAAKBEqBXx2zWvZ2Vl6afvrz/PHwCAm1GxSsasW7fO8XNERITWr19/3fdERkZed0GfuLg4bdu27Ua7BwAAAAAAcMOKVTIGAAAAAAC4zy6LbLJ4vQ9wjY+3OwAAAAAAAHAzIRkDAAAAAADgQUxTAgAAAADA5OxG9uHtPsA1JGMAAACKuduqHvV2FwAAQCEiGQMAAAAAgMnZisECvt6+v5mwZgwAAAAAAIAHkYwBAAAAAADwIKYpAQAAAABgckxTMhcqYwAAAAAAADyIZAwAAAAAAIAHMU0JAAAAAACTsxsW2Q3vThPy9v3NhMoYAAAAAAAADyIZAwAAAAAA4EFMUwIAAAAAwOTYTclcqIwBAAAAAADwICpjAAAAAAAwOZt8ZPNyvYXNq3c3FypjAAAAAAAAPIhkDAAAAAAAgAcxTQkAAAAAAJMzDIvshncX0DW8fH8zoTIGAAAAAADAg0jGAAAAAAAAeBDTlAAAAAAAMDmbLLLJu9OEvH1/M6EyBgAAAAAAwINIxgAAAAAAAHgQ05QAAAAAADA5m+Ejm+Hdegub4dXbmwqVMQAAAAAAAB5EZQwAAAAAACZnl0V2L9db2EVpjKuojAEAAAAAAPAgkjEAAAAAAAAexDQlAAAAAABMziaLbLJ4vQ9wDZUxAAAAAAAAHkQyBgAAAAAAwIOYpgQAAIqFlIN1HD8btgBJo7X2lyay+F5yatcm6gcP9wwAgOLPZvjIZni33sJmsJuSq6iMAQAAAAAA8CCSMQAAAAAAAB7ENCUAAAAAAEzOLovsXt7NyNv3NxMqYwAAAAAAADyIyhgAAAAAAEzOLh/ZvFxvYRcL+LqKyhgAAAAAAAAPIhkDAAAAAADgQUxTAgAAAADA5GyGj2yGd+stbAbTlFxFMgYAABQLbaJ+cPyclZWllbtXqmXkFvn5+XmxVwAAAIWPaUoAAAAAAAAeRGUMAAAAAAAmZ5eP7OymZBpUxgAAAAAAAHgQyRgAAAAAAAAPYpoSAAAAAAAmZzMsshkWr/cBrqEyBgAAAAAAwIOojAEAAAAAwORs8pHNy/UWNhbwdRmVMQAAAAAAAB5EMgYAAAAAAMCDmKYEAAAAAIDJ2Q0f2Q3v1lvYDaYpuYrKGAAAAAAAAA8iGQMAAAAAAOBBTFMCAAAAAMDk2E3JXEjGAABQjKw/dLtL7VpU/7GIewIAAICiwjQlAAAAAAAAD6IyBgAAAAAAk7NLshkWr/cBrqEyBgAAAAAAwIOojAEAAAAAwOTs8pHdy/UW3r6/mfBJAQAAAAAAeBDJGAAAAAAAAA9imhIAAAAAACZnM3xkM7xbb+Ht+5sJnxQAAAAAAIAHkYwBAAAAAADwIKYpAQBQjLSo/qO3uwAAAEzILovssni9D3ANlTEAAAAAAAAeRDIGAAAAAADAg5imBAAAAACAybGbkrnwSQEAAAAAAHgQlTEAAAAAAJicTT6yebnewtv3NxM+KQAAAAAAAA8iGQMAAAAAAOBBTFMCAAAAAMDk7IZFdsPi9T7ANVTGAAAAAAAAeBDJGAAAAAAAAA9imhIAAAAAACZnLwa7Kdmp93AZnxQAAAAAAIAHkYwBAAAAAADwIKYpAQAAAABgcnbDR3bDy9OUvHx/M+GTAgAAAAAA8CAqYwAAAAAAMDmbLLLJ4vU+wDVUxgAAAAAAAHgQyRgAAAAAAAAPYpoSAAAAAAAmxwK+5sInBQAAAAAA4EFUxgAAcBNrMGiSS+2+f29IEfcEAADg5kEyBgAAAAAAk7PJ+7sZ2bx6d3NhmhIAAAAAAIAHkYwBAAAAAADwIKYpAQAAAABgcuymZC58UgAAAAAAAB5EZQwAAAAAACZnM3xk83JlirfvbyYkYwAAyMf6Q7dft02L6j96oCcAAAAoSUhbAQAAAAAAeBCVMQAAAAAAmJwhi+yyeL0PcA3JGAAAbmLfvzfE210AAAC46TBNCQAAAAAAwIOojAEAAAAAwOTYTclc+KQAAAAAAAA8iGQMAAAAAACABzFNCQAAAAAAk7MbFtkN7+5m5O37mwmVMQAAAAAAAB5EZQwAAPloUf1Hb3cBAADAJTb5yOblegtv399M+KQAAAAAAAA8iGQMAAAAAACABzFNCQAAAAAAk2MBX3OhMgYAAAAAAMCDqIwBAAC4yqcHGrrUrv1t24u0HwAAoGQiGQMAAAAAgMnZ5SO7lye/ePv+ZsInBQAAAAAA4EEkYwAAAAAAADyIaUoAAAAAAJiczbDI5uXdjLx9fzOhMgYAAAAAAMCDqIwBAAAAAMDk7IZFdi9Xpnj7/mZCZQwAAAAAAIAHkYwBAAAAAADwIKYpAQAAXKX9bdu93QUAANxiGD6yG96ttzC8fH8z4ZMCAAAAAADwoGKTjBk/frwsFosGDx7sOHfx4kUlJSWpQoUKKlOmjDp16qRjx445ve/w4cNKTExUqVKlFBoaqpdeekmXL192arNu3TrdeeedCggIUI0aNTR37lwPPBEAAAAAAEBuxSIZs2XLFs2YMUMxMTFO54cMGaLPPvtMn3zyidavX6/ffvtNHTt2dFy32WxKTExUZmamNm/erHnz5mnu3LkaMWKEo83BgweVmJioli1bavv27Ro8eLCeeuoprVq1ymPPBwAAAABAUbLJUiwOuMbryZizZ8+qe/fu+vDDDxUSEuI4f+bMGc2ePVvvvPOOHnjgATVu3Fhz5szR5s2b9fXXX0uSVq9erT179mj+/Plq2LChHnroIY0dO1YffPCBMjMzJUnTp09XVFSUJk6cqDp16mjgwIF69NFHNWnSJK88LwAAAAAAuLl5fQHfpKQkJSYmqnXr1nr99dcd57du3aqsrCy1bt3aca527dqqVq2a0tLS1LRpU6Wlpal+/foKCwtztElISNAzzzyj3bt3q1GjRkpLS3OKkdPmyulQV7t06ZIuXbrkeJ2RkSFJysrKUlZW1o0+cp5y4hZVfBQ9xrBkYBzNjzEsGRhH82MMzY8xLBkYx2w3+/Oj+PFqMubjjz/Wd999py1btuS6lp6eLn9/f5UrV87pfFhYmNLT0x1trkzE5FzPuXatNhkZGbpw4YKCgoJy3Ts5OVmjR4/OdX716tUqVaqU6w9YACkpKUUaH0WPMSwZGEfzYwxLBsbR/BhD82MMS4abfRzPnz/v7S4UObsh2Q3vThOyG169val4LRlz5MgRPf/880pJSVFgYKC3upGnYcOGaejQoY7XGRkZioiIUHx8vKxWa5HcMysrSykpKWrTpo38/PyK5B4oWoxhycA4mh9jWDIwjubHGJofY1gyMI7ZcmY7AMWF15IxW7du1fHjx3XnnXc6ztlsNm3YsEFTpkzRqlWrlJmZqdOnTztVxxw7dkzh4eGSpPDwcH377bdOcXN2W7qyzdU7MB07dkxWqzXPqhhJCggIUEBAQK7zfn5+Rf4HzBP3QNFiDEsGxtH8GMOSgXE0P8bQ/BjDkuFmH8eb4dntho/shneXhfX2/c3Ea59Uq1attHPnTm3fvt1x3HXXXerevbvjZz8/P3355ZeO9+zbt0+HDx9WbGysJCk2NlY7d+7U8ePHHW1SUlJktVpVt25dR5srY+S0yYkBAAAAAAA8Lzk5WU2aNFFwcLBCQ0PVoUMH7du3z6lN//79FR0draCgIFWsWFHt27fX3r17c8WaO3euYmJiFBgYqNDQUCUlJTld37Fjh+6//34FBgYqIiJCEyZMKNJnux6vVcYEBwerXr16TudKly6tChUqOM4/+eSTGjp0qMqXLy+r1arnnntOsbGxatq0qSQpPj5edevWVY8ePTRhwgSlp6dr+PDhSkpKclS2DBgwQFOmTNHLL7+svn37KjU1VYsXL9aKFSs8+8AAAAAAAMBh/fr1SkpKUpMmTXT58mX97W9/U3x8vPbs2aPSpUtLkho3bqzu3burWrVqOnnypEaNGqX4+HgdPHhQvr6+kqR33nlHEydO1FtvvaV77rlH586d06FDhxz3ycjIUHx8vFq3bq3p06dr586d6tu3r8qVK6d+/fp549G9v5vStUyaNEk+Pj7q1KmTLl26pISEBE2dOtVx3dfXV8uXL9czzzyj2NhYlS5dWr169dKYMWMcbaKiorRixQoNGTJEkydPVtWqVTVr1iwlJCR445EAAAAAACh0dllkl5cX8HXz/l988YXT67lz5yo0NFRbt25V8+bNJckpWVK9enW9/vrratCggQ4dOqTo6GidOnVKw4cP12effaZWrVo52sbExDh+XrBggTIzM/X3v/9d/v7+uuOOO7R9+3a98847JGMkad26dU6vAwMD9cEHH+iDDz7I9z2RkZFauXLlNePGxcVp27ZthdFFAAAAAABwDVcvmJzfuqxXO3PmjCSpfPnyeV4/d+6c5syZo6ioKEVEREjKXobEbrfrv//9r+rUqaM///xT9957ryZOnOhok5aWpubNm8vf398RKyEhQW+++aZOnTqlkJCQAj3njWB1HQAAAAAAUGgiIiJUtmxZx5GcnHzd99jtdg0ePFjNmjXLtaTJ1KlTVaZMGZUpU0aff/65UlJSHImVAwcOyG6364033tC7776rJUuW6OTJk2rTpo0yMzMlSenp6QoLC3OKmfM6PT29MB7ZbcWqMgYAAAAAALjPZlhkM7w7TSnn/keOHJHVanWcd6UqJikpSbt27dKmTZtyXevevbvatGmjo0eP6u2331aXLl301VdfKTAwUHa7XVlZWXrvvfcUHx8vSfroo48UHh6utWvXFtslSkjGAAAAAACAQmO1Wp2SMdczcOBALV++XBs2bFDVqlVzXc+psKlZs6aaNm2qkJAQLVu2TN26dVOlSpUkybGjsiRVrFhRt956qw4fPixJCg8P17Fjx5xi5rwODw93+/kKA9OUAAAAAACAxxmGoYEDB2rZsmVKTU1VVFSUS+8xDEOXLl2SJDVr1kySnLbEPnnypE6cOKHIyEhJUmxsrDZs2KCsrCxHm5SUFNWqVcsr68VIJGMAAAAAADA9u+FTLA53JCUlaf78+Vq4cKGCg4OVnp6u9PR0XbhwQVL2ejDJycnaunWrDh8+rM2bN6tz584KCgpS27ZtJUm333672rdvr+eff16bN2/Wrl271KtXL9WuXVstW7aUJD3++OPy9/fXk08+qd27d2vRokWaPHmyhg4dWriD4AaSMQAAAAAAwOOmTZumM2fOKC4uTpUqVXIcixYtkpS9w/LGjRvVtm1b1ahRQ127dlVwcLA2b96s0NBQR5z/+7//0z333KPExES1aNFCfn5++uKLL+Tn5ycpe5rT6tWrdfDgQTVu3FgvvPCCRowY4bVtrSXWjAEAAAAAwPTsssju5QV87XLv/oZhXPN65cqVtXLlyuvGsVqtmj17tmbPnp1vm5iYGG3cuNGt/hUlKmMAAAAAAAA8iGQMAAAAAACABzFNCQAAAAAAkzNkcXuaUFH0Aa6hMgYAAAAAAMCDSMYAAAAAAAB4ENOUAAAAAAAwObtRDHZT8vL9zYTKGAAAAAAAAA8iGQMAAAAAAOBBTFMCAAAAAMDk7IaP7IZ36y28fX8z4ZMCAAAAAADwICpjAAAAAAAwORbwNRcqYwAAAAAAADyIZAwAAAAAAIAHMU0JAAAAAACTs8siu7w8TcnL9zcTKmMAAAAAAAA8iGQMAAAAAACABzFNCQAAAAAAk2M3JXOhMgYAAAAAAMCDSMYAAAAAAAB4ENOUAAAAAAAwOaYpmQuVMQAAAAAAAB5EZQwAwBRm7GvhUru+t60p4p4AAAAUP1TGmAuVMQAAAAAAAB5EMgYAAAAAAMCDmKYEAAAAAIDJMU3JXKiMAQAAAAAA8CCSMQAAAAAAAB7ENCUAAAAAAEzOkGSXd6cJGV69u7lQGQMAAAAAAOBBJGMAAAAAAAA8iGlKAAAAAACYHLspmQvJGACAKfSvtd6ldllZWUXcEwAAAODGkIwBAAAAAMDkqIwxF9aMAQAAAAAA8CCSMQAAAAAAAB7ENCUAAAAAAEyOaUrmQmUMAAAAAACAB5GMAQAAAAAA8CCmKQEAAAAAYHJMUzIXKmMAAAAAAAA8iGQMAAAAAACABzFNCQAAAAAAkzMMiwwvTxPy9v3NhMoYAAAAAAAAD6IyBgAAAAAAk7PLIru8vICvl+9vJlTGAAAAAAAAeBDJGAAAAAAAAA9imhIAAAAAACZnNyyye3kBXW/f30yojAEAAAAAAPAgkjEAAAAAAAAexDQlAAAAAABMzjAsMrw8Tcjb9zcTKmMAAAAAAAA8iGQMAAAAAACABzFNCQBKgBn7WrjUrn+t9UXcEwAAAHgDuymZC5UxAAAAAAAAHkRlDAAAAAAAJscCvuZCZQwAAAAAAIAHkYwBAAAAAADwIKYpAQAAAABgckYxWMCXaUquozIGAAAAAADAg0jGAAAAAAAAeBDTlAAAAAAAMDlDkmF4vw9wDZUxAAAAAAAAHkRlDACUAP1rrfd2FwAAAAC4iGQMAAAAAAAmZ5dFFnl3NyO7l+9vJkxTAgAAAAAA8CAqYwAAAAAAMDnDsMgwvFuZ4u37mwmVMQAAAAAAAB5EMgYAAAAAAMCDmKYEAAAAAIDJ2Q2LLF6eJmRnmpLLqIwBAAAAAADwIJIxAAAAAAAAHsQ0JQAAAAAATM4wsg9v9wGuoTIGAAAAAADAg6iMAQAUyOS9rV1q93ztNUXcEwAAAMBcSMYAAAAAAGByhmGR4eXdjLx9fzMhGQMAAAAAAJAHu92u9evXa+PGjfrll190/vx5VaxYUY0aNVLr1q0VERFRoLgkYwCgCIza1d61dvU+LeKeAAAA4GZAZUzhunDhgiZOnKhp06bp5MmTatiwoSpXrqygoCD9/PPP+te//qWnn35a8fHxGjFihJo2bepWfJIxAAAAAAAAV7j99tsVGxurDz/8UG3atJGfn1+uNr/88osWLlyoxx57TK+++qqefvppl+OTjAEAAAAAALjC6tWrVadOnWu2iYyM1LBhw/Tiiy/q8OHDbsUnGQMAAAAAgMnZDYssXp4mZC9B05Sul4i5kp+fn6Kjo92KTzIGAAAAAAAgHzt27MjzvMViUWBgoKpVq6aAgAC3YpKMAQAAAAAAyEfDhg1lseRf9ePn56euXbtqxowZCgwMdCmmT2F1DgAAAAAAeIdhFI+jJFq2bJlq1qypmTNnavv27dq+fbtmzpypWrVqaeHChZo9e7ZSU1M1fPhwl2NSGQMAKJDna6/xdhcAAACAIjdu3DhNnjxZCQkJjnP169dX1apV9dprr+nbb79V6dKl9cILL+jtt992KSaVMQAAAAAAAPnYuXOnIiMjc52PjIzUzp07JWVPZTp69KjLMUnGAAAAAABgctnThCxePrz9KRSN2rVra/z48crMzHScy8rK0vjx41W7dm1J0n//+1+FhYW5HJNpSgBQBEbV+9TbXQAAAABQCD744AO1a9dOVatWVUxMjKTsahmbzably5dLkg4cOKBnn33W5ZgkYwAAAAAAMLmc6hRv96Ekuvfee3Xw4EEtWLBAP/74oySpc+fOevzxxxUcHCxJ6tGjh1sxScYAAAAAAADkIyMjQ1arVQMGDMh17eeff1aNGjXcjsmaMQAAAAAAAPlITEzUxYsXc53ft2+f4uLiChSTZAwAAAAAACZnFJOjJCpTpow6duyoy5cvO8798MMPiouLU6dOnQoUk2QMAAAAAABAPpYuXaozZ86oe/fuMgxDu3btUlxcnLp166bJkycXKCbJGAAAAAAAgHwEBQVpxYoV2rdvn7p06aJWrVqpZ8+eeueddwockwV8AQAAAAAwOXZTKlwZGRlOr318fLRo0SK1adNGnTp10muvveZoY7Va3Y5PMgYAAAAAAOAK5cqVk8WSO7lkGIamT5+uGTNmyDAMWSwW2Ww2t+OTjAEAAAAAALjC2rVrizQ+yRgAAAAAAMyuOGxn5O37F6IWLVro73//ux5++GFVrFix0OOzgC8AAAAAAMBV5s+fr4iICN17771688039cMPPxRabJIxAAAAAACY3f8W8PXmoRK0gK8kpaam6ujRo3r22We1detW3XPPPapZs6ZeeOEFbdiwQXa7vcCxScYAAAAAAADkISQkRE888YQWL16sEydO6P3339eFCxfUvXt3hYaGqmfPnlqyZInOnTvnVlySMQAAAAAAANfh7++vBx98UFOnTtWRI0f0xRdfqHr16ho7dqzeeecdt2KxgC8AAAAAACZnGNmHt/twM7nrrrt01113acyYMcrKynLrvSRjAAAAAAAArjB06FCX2lksFk2cOFF+fn5uxScZAwAAAAAAcIVt27a51M5iKdiixSRjAAAAAAAwOceORl7uQ0mxdu3aIo3PAr4AAAAAAAAu+PXXX/Xrr7/ecBySMQAAAAAAAPmw2+0aM2aMypYtq8jISEVGRqpcuXIaO3as7HZ7gWIyTQkAAAAAALMzLNmHt/tQAr366quaPXu2xo8fr2bNmkmSNm3apFGjRunixYsaN26c2zFJxgAAAAAAAORj3rx5mjVrltq1a+c4FxMToypVqujZZ58lGQMAAAAAwM3IMLIPb/ehJDp58qRq166d63zt2rV18uTJAsVkzRgAAAAAAIB8NGjQQFOmTMl1fsqUKWrQoEGBYlIZAwAAAAAAkI8JEyYoMTFRa9asUWxsrCQpLS1NR44c0cqVKwsU06uVMdOmTVNMTIysVqusVqtiY2P1+eefO67HxcXJYrE4HQMGDHCKcfjwYSUmJqpUqVIKDQ3VSy+9pMuXLzu1Wbdune68804FBASoRo0amjt3riceD4AXvfx9Z5cOAAAAoEQwislRArVo0UI//vijHnnkEZ0+fVqnT59Wx44dtW/fPt1///0FiunVypiqVatq/PjxqlmzpgzD0Lx589S+fXtt27ZNd9xxhyTp6aef1pgxYxzvKVWqlONnm82mxMREhYeHa/PmzTp69Kh69uwpPz8/vfHGG5KkgwcPKjExUQMGDNCCBQv05Zdf6qmnnlKlSpWUkJDg2QcGAAAAAACmU7ly5QIt1JsfryZjHn74YafX48aN07Rp0/T11187kjGlSpVSeHh4nu9fvXq19uzZozVr1igsLEwNGzbU2LFj9corr2jUqFHy9/fX9OnTFRUVpYkTJ0qS6tSpo02bNmnSpEkkYwAAAAAAwHVdvHhRO3bs0PHjx2W3252uXbnLkquKzZoxNptNn3zyic6dO+eYgyVJCxYs0Pz58xUeHq6HH35Yr732mqM6Ji0tTfXr11dYWJijfUJCgp555hnt3r1bjRo1Ulpamlq3bu10r4SEBA0ePNgjzwUAAAAAQFEzDIsMw+L1PpREX3zxhXr27KkTJ07kumaxWGSz2dyO6fVkzM6dOxUbG6uLFy+qTJkyWrZsmerWrStJevzxxxUZGanKlStrx44deuWVV7Rv3z4tXbpUkpSenu6UiJHkeJ2enn7NNhkZGbpw4YKCgoJy9enSpUu6dOmS43VGRoYkKSsrS1lZWYX05M5y4hZVfBQ9xrB48bX7udTu6vFiHM2PMSwZGEfzYwzNjzEsGRjHbDf78+PGPPfcc+rcubNGjBiRK79QUF5PxtSqVUvbt2/XmTNntGTJEvXq1Uvr169X3bp11a9fP0e7+vXrq1KlSmrVqpX279+v6OjoIutTcnKyRo8enev86tWrndasKQopKSlFGh9FjzEsHpqqq0vtVh7Oe/VzxtH8GMOSgXE0P8bQ/BjDkuFmH8fz5897uwswsWPHjmno0KGFloiRikEyxt/fXzVq1JAkNW7cWFu2bNHkyZM1Y8aMXG3vueceSdLPP/+s6OhohYeH69tvv3Vqc+zYMUlyrDMTHh7uOHdlG6vVmmdVjCQNGzZMQ4cOdbzOyMhQRESE4uPjZbVaC/ik15aVlaWUlBS1adNGfn6u/Rd9FC+MYfEyYlcvl9qNqTfP6TXjaH6MYcnAOJofY2h+jGHJwDhmy5ntUOKV0N2MvO3RRx/VunXrCrUoxOvJmKvZ7XanKUJX2r59uySpUqVKkqTY2FiNGzdOx48fV2hoqKTsjK/VanVMdYqNjc2173dKSorTujRXCwgIUEBAQK7zfn5+Rf4HzBP3QNFiDIsHm49rpaj5jRXjaH6MYcnAOJofY2h+jGHJcLOP48387LhxU6ZMUefOnbVx40bVr18/1/dp0KBBbsf0ajJm2LBheuihh1StWjX9+eefWrhwodatW6dVq1Zp//79Wrhwodq2basKFSpox44dGjJkiJo3b66YmBhJUnx8vOrWrasePXpowoQJSk9P1/Dhw5WUlORIpgwYMEBTpkzRyy+/rL59+yo1NVWLFy/WihUrvPnoAAAAAAAUGhbwLTofffSRVq9ercDAQK1bt04Wy/9/TovFYr5kzPHjx9WzZ08dPXpUZcuWVUxMjFatWqU2bdroyJEjWrNmjd59912dO3dOERER6tSpk4YPH+54v6+vr5YvX65nnnlGsbGxKl26tHr16qUxY8Y42kRFRWnFihUaMmSIJk+erKpVq2rWrFlsaw0AAAAAAK7r1Vdf1ejRo/XXv/5VPj4+hRLTq8mY2bNn53stIiJC69evv26MyMjIXNOQrhYXF6dt27a53T8A5jWhwSfe7gIAAACAEiAzM1Ndu3YttESMJBVeJAAAAAAA4B1GMTlKoF69emnRokWFGrPYLeALAAAAAABQXNhsNk2YMEGrVq1STExMrgV833nnHbdjkowBUORe/r6zS+2YWgQAAACguNm5c6caNWokSdq1a5fTtSsX83UHyRgAAAAAAEzP8r/D230oedauXVvoMVkzBgAAAAAAwAW//vqrfv311xuOQzIGAAAAAAAgH3a7XWPGjFHZsmUVGRmpyMhIlStXTmPHjpXdbi9QTKYpAQAAAABgdsVhNyNv37+IvPrqq5o9e7bGjx+vZs2aSZI2bdqkUaNG6eLFixo3bpzbMUnGAAAAAAAA5GPevHmaNWuW2rVr5zgXExOjKlWq6Nlnny1QMoZpSgAAAAAAwOOSk5PVpEkTBQcHKzQ0VB06dNC+ffuc2vTv31/R0dEKCgpSxYoV1b59e+3duzfPeH/88YeqVq0qi8Wi06dPO11bt26d7rzzTgUEBKhGjRqaO3euy/08efKkateunet87dq1dfLkSZfjXIlkDAAAAAAAZmcUk8MN69evV1JSkr7++mulpKQoKytL8fHxOnfunKNN48aNNWfOHP3www9atWqVDMNQfHy8bDZbrnhPPvmkYmJicp0/ePCgEhMT1bJlS23fvl2DBw/WU089pVWrVrnUzwYNGmjKlCm5zk+ZMkUNGjRw44n/P6YpAQAAAAAAj/viiy+cXs+dO1ehoaHaunWrmjdvLknq16+f43r16tX1+uuvq0GDBjp06JCio6Md16ZNm6bTp09rxIgR+vzzz53iTp8+XVFRUZo4caIkqU6dOtq0aZMmTZqkhISE6/ZzwoQJSkxM1Jo1axQbGytJSktL05EjR7Ry5coCPTvJGABFbkKDT7zdBQAAAKBkMyzZh7f7cAPOnDkjSSpfvnye18+dO6c5c+YoKipKERERjvN79uzRmDFj9M033+jAgQO53peWlqbWrVs7nUtISNDgwYNd6leLFi30448/6oMPPnBMkerYsaOeffZZVa5c2aUYVyMZAwAAAAAACk1GRobT64CAAAUEBFzzPXa7XYMHD1azZs1Ur149p2tTp07Vyy+/rHPnzqlWrVpKSUmRv7+/JOnSpUvq1q2b3nrrLVWrVi3PZEx6errCwsKczoWFhSkjI0MXLlxQUFBQvv3KysrSgw8+qOnTpxdood78sGYMAAAAAAAoNBERESpbtqzjSE5Ovu57kpKStGvXLn388ce5rnXv3l3btm3T+vXrdfvtt6tLly66ePGiJGnYsGGqU6eOnnjiiUJ/Dkny8/PTjh07Cj0uyRgAAAAAAEzOMIrHIUlHjhzRmTNnHMewYcOu2feBAwdq+fLlWrt2rapWrZrretmyZVWzZk01b95cS5Ys0d69e7Vs2TJJUmpqqj755BPdcsstuuWWW9SqVStJ0q233qqRI0dKksLDw3Xs2DGnmMeOHZPVar1mVUyOJ554QrNnz75uO3cwTQkAAAAAABQaq9Uqq9V63XaGYei5557TsmXLtG7dOkVFRbn0HsMwdOnSJUnSP//5T124cMFxfcuWLerbt682btzoWOA3NjY210K7KSkpjsV4r+fy5cv6+9//rjVr1qhx48YqXbq00/V33nnHpThXIhkD5GPI9sdcajepYe4yOgAAAADAtSUlJWnhwoX69NNPFRwcrPT0dEnZlTBBQUE6cOCAFi1apPj4eFWsWFG//vqrxo8fr6CgILVt21aSnHZUkqQTJ05Iyt4xqVy5cpKkAQMGaMqUKXr55ZfVt29fpaamavHixVqxYoVL/dy1a5fuvPNOSdKPP/7odM1iKdiixSRjAAAAAAAwO+N/h7f74IZp06ZJkuLi4pzOz5kzR71791ZgYKA2btyod999V6dOnVJYWJiaN2+uzZs3KzQ01OX7REVFacWKFRoyZIgmT56sqlWratasWS5tay1Ja9eudfleriIZAwAAAAAAPM4wrp29qVy5cq7pRdcTFxeXZ9y4uDht27bNrVg5zpw5I5vNlmvL7ZMnT+qWW25xaUrW1dxawPeHH37QyJEj9cADDyg6OlqVKlVSTEyMevXqpYULFzrmbAEAAAAAAJQEjz32WJ67PC1evFiPPeba8hZXcykZ891336l169Zq1KiRNm3apHvuuUeDBw/W2LFj9cQTT8gwDL366quqXLmy3nzzTZIyAAAAAAB4kmEpHkcJ9M0336hly5a5zsfFxembb74pUEyXpil16tRJL730kpYsWeJYACcvaWlpmjx5siZOnKi//e1vBeoQgKLlysLELEoMAAAAANkuXbqky5cv5zqflZXltJOTO1xKxvz444/y8/O7brvY2FjFxsYqKyurQJ0BAAAAAADusxjZh7f7UBLdfffdmjlzpt5//32n89OnT1fjxo0LFNOlZIwriZgbaQ8AAAAAAFAcvf7662rdurW+//57tWrVSpL05ZdfasuWLVq9enWBYhZoN6UtW7Zo7dq1On78uOx2u9O1d955p0AdAQAAAAAAKG6aNWumtLQ0vfXWW1q8eLGCgoIUExOj2bNnq2bNmgWK6XYy5o033tDw4cNVq1YthYWFyWL5/wv0XPkzAAAAAADwEON/h7f7UEI1bNhQCxYsKLR4bidjJk+erL///e/q3bt3oXUCKI5YxBYAAAAAbk4ZGRmyWq2On68lp5073E7G+Pj4qFmzZm7fCAAAAAAAwAxCQkJ09OhRhYaGqly5cnnOBDIMQxaLRTabze34bidjhgwZog8++EDvvvuu2zcDAAAAAABFwLBkH97uQwmRmpqq8uXLS5LWrl1b6PHdTsa8+OKLSkxMVHR0tOrWrZtr56SlS5cWWucAAAAAAAA8rUWLFnn+XFjcTsYMGjRIa9euVcuWLVWhQgUW7QUAAAAAACXaxYsXtWPHjjx3lW7Xrp3b8dxOxsybN0///Oc/lZiY6PbNAHgfCxMDAAAAJRC7KRWZL774Qj179tSJEydyXSvomjE+7r6hfPnyio6OdvtGAAAAAAAAZvPcc8+pc+fOOnr0qOx2u9NRkESMVIBkzKhRozRy5EidP3++QDcEAAAAAACFzCgmRwl07NgxDR06VGFhYYUW0+1pSu+9957279+vsLAwVa9ePdcCvt99912hdQ4AAAAAAMCbHn30Ua1bt65QZwm5nYzp0KFDod0cAAAAAACgOJsyZYo6d+6sjRs3qn79+rmKUgYNGuR2TLeTMSNHjnT7JgAAAAAAoAgVh2lC3r5/Efnoo4+0evVqBQYGat26dU67SlsslqJLxhiGwRbWAAAAAADgpvPqq69q9OjR+utf/yofH7eX3s2TS1HuuOMOffzxx8rMzLxmu59++knPPPOMxo8fXyidAwAAAAAA8KbMzEx17dq10BIxkouVMe+//75eeeUVPfvss2rTpo3uuusuVa5cWYGBgTp16pT27NmjTZs2affu3Ro4cKCeeeaZQusgAAAAAAC4DsOSfXi7DyVQr169tGjRIv3tb38rtJguJWNatWql//znP9q0aZMWLVqkBQsW6JdfftGFCxd06623qlGjRurZs6e6d++ukJCQQuscAAAAAACAN9lsNk2YMEGrVq1STExMrgV833nnHbdjurWA73333af77rvP7ZsAAAAAAACY0c6dO9WoUSNJ0q5du5yuFXR9Xbd3UwIAAAAAAMWLxcg+vN2Hkmjt2rWFHrPwVp8BAAAAAADAdZGMAQAAAADA7IxicpQQAwYM0K+//upS25y1dd3BNCUAAAAAAIArVKxYUXfccYeaNWumhx9+ON9dpT/++GNVrlxZM2fOdCs+yRgAAAAAAIArjB07VgMHDtSsWbM0depU7dmzx+l6cHCwWrdurZkzZ+rBBx90O36BkjF2u10///yzjh8/Lrvd7nStefPmBQkJAAAAAABQbISFhenVV1/Vq6++qlOnTunw4cO6cOGCbr31VkVHRxd4JyWpAMmYr7/+Wo8//rh++eUXGYbzhDCLxSKbzVbgzgAAAAAAABQ3ISEhCgkJKbR4bidjBgwYoLvuuksrVqxQpUqVbigTBLji+W3dXGo3udFHRdyTonMzPCMAAAAAIJvbyZiffvpJS5YsUY0aNYqiPwAAAAAAwE0WSRYv72ZEqYbr3N7a+p577tHPP/9cFH0BAAAAAAAo8VyqjNmxY4fj5+eee04vvPCC0tPTVb9+ffn5+Tm1jYmJKdweAgAAAAAAlCAuJWMaNmwoi8XitGBv3759HT/nXGMBXwAAAAAAvMCwZB/e7kMJNHLkSPXt21eRkZGFFtOlZMzBgwcL7YYAAAAAAABm8emnn2rcuHFq0aKFnnzySXXq1EkBAQE3FNOlNWMiIyMdxy+//KIqVao4nYuMjFSVKlX0yy+/3FBnAAAAAABAARjF5CiBtm/fri1btuiOO+7Q888/r/DwcD3zzDPasmVLgWO6vYBvy5YtdfLkyVznz5w5o5YtWxa4IwAAAAAAAMVRo0aN9N577+m3337T7Nmz9euvv6pZs2aKiYnR5MmTdebMGbfiuZ2MyVkb5mp//PGHSpcu7W44AAAAAAAAUzAMQ1lZWcrMzJRhGAoJCdGUKVMUERGhRYsWuRzHpTVjJKljx46Sshfr7d27t9P8KJvNph07dujee+914xEA10xu9JG3uwAAAAAAxVtxmCbk7fsXoa1bt2rOnDn66KOPFBAQoJ49e+qDDz5QjRo1JEnvv/++Bg0apK5du7oUz+VkTNmyZSVlZ4GCg4MVFBTkuObv76+mTZvq6aefdudZAPwPCScAAAAAKJ7q16+vvXv3Kj4+XrNnz9bDDz8sX19fpzbdunXT888/73JMl5Mxc+bMkSRVr15dL774IlOSAAAAAABAidelSxf17dtXVapUybfNrbfeKrvd7nJMt9eMGTlypEqXLq3jx49r48aN2rhxo44fP+5uGAAAAAAAUEgsRvE4SqKctWGuduHCBY0ZM6ZAMd1Oxvz555/q0aOHqlSpohYtWqhFixaqUqWKnnjiCbdXDwYAAAAAACjORo8erbNnz+Y6f/78eY0ePbpAMd1Oxjz11FP65ptvtHz5cp0+fVqnT5/W8uXL9Z///Ef9+/cvUCcAAAAAAACKo/x2lf7+++9Vvnz5AsV0ec2YHMuXL9eqVat03333Oc4lJCToww8/1IMPPligTgAAAAAAgBvAbkqFLiQkRBaLRRaLRbfffrtTQsZms+ns2bMaMGBAgWK7nYypUKGCY2elK5UtWzbPOVQAAAAAAABm8+6778owDPXt21ejR492yoX4+/urevXqio2NLVBst5Mxw4cP19ChQ/WPf/xD4eHhkqT09HS99NJLeu211wrUCQAAAAAAcAOojCl0vXr1kiRFRUXp3nvvlZ+fX6HFdjsZM23aNP3888+qVq2aqlWrJkk6fPiwAgIC9Pvvv2vGjBmOtt99912hdRQAAAAAAMATMjIyZLVaJUmNGjXShQsXdOHChTzb5rRzh9vJmA4dOrh9EwAAAAAAALMICQnR0aNHFRoaqnLlyuW5gG/Owr42m83t+G4nY0aOHOn2TQAAAAAAQNGxGNmHt/tQUqSmpjp2Slq7dm2hx3c7GSNJp0+f1pIlS7R//3699NJLKl++vL777juFhYWpSpUqhd1HAAAAAAAAj2nRokWePxcWt5MxO3bsUOvWrVW2bFkdOnRITz/9tMqXL6+lS5fq8OHD+r//+79C7yQAAAAAAIC3nD59Wt9++62OHz8uu93udK1nz55ux3M7GTN06FD17t1bEyZMUHBwsON827Zt9fjjj7vdAQAAAAAAcIMMS/bh7T6UQJ999pm6d++us2fPymq1Oq0fY7FYPJOM2bJli9OOSTmqVKmi9PR0tzsAc+nxzVMutfvHPbOKuCcAAAAAABS9F154QX379tUbb7yhUqVKFUpMH3ffEBAQoIyMjFznf/zxR1WsWLFQOgUAAAAAAFAc/Pe//9WgQYMKLREjFSAZ065dO40ZM0ZZWVmSsktyDh8+rFdeeUWdOnUqtI4BAAAAAAAXGcXkKIESEhL0n//8p1Bjuj1NaeLEiXr00UcVGhqqCxcuqEWLFkpPT1dsbKzGjRtXqJ0DAAAAAADwpsTERL300kvas2eP6tevLz8/P6fr7dq1czum28mYsmXLKiUlRZs2bdKOHTt09uxZ3XnnnWrdurXbNwcAAAAAADfOYmQf3u5DSfT0009LksaMGZPrmsVikc1mczum28mYHPfdd5/uu+++gr4dAAAAAACg2Lt6K+vC4FYyxm63a+7cuVq6dKkOHToki8WiqKgoPfroo+rRo4fT9k4AAAAAAADIzeVkjGEYateunVauXKkGDRqofv36MgxDP/zwg3r37q2lS5fqX//6VxF2FQAAAAAA5Kk4LKDr7fsXovfee0/9+vVTYGCg3nvvvWu2HTRokNvxXU7GzJ07Vxs2bNCXX36pli1bOl1LTU1Vhw4d9H//93/q2bOn250AAAAAAAAoLiZNmqTu3bsrMDBQkyZNyredxWIp2mTMRx99pL/97W+5EjGS9MADD+ivf/2rFixYQDIGAAAAAACY2sGDB/P8ubC4nIzZsWOHJkyYkO/1hx566LqlOzC/f9wzy9tdAAAAAABcrRjsplSSpikVNZeTMSdPnlRYWFi+18PCwnTq1KlC6RQAAAAAAIC3DB061OW277zzjtvxXU7G2Gw23XJL/s19fX11+fJltzsAAAAAAABQnGzbts2ldgXdVdqt3ZR69+6tgICAPK9funSpQB0AAAAAAAA3iN2UCtXatWuLNL7LyZhevXpdtw2L9wIAAAAAAFyby8mYOXPmFGU/AAAAAABAQVEZU6T+85//aPHixTp8+LAyMzOdri1dutTteD6F1TEAAAAAAICS5uOPP9a9996rH374QcuWLVNWVpZ2796t1NRUlS1btkAxScYAAAAAAADk44033tCkSZP02Wefyd/fX5MnT9bevXvVpUsXVatWrUAxScYAAAAAAGByFqN4HCXR/v37lZiYKEny9/fXuXPnZLFYNGTIEM2cObNAMUnGAAAAAAAA5CMkJER//vmnJKlKlSratWuXJOn06dM6f/58gWK6vIAvAAAAAADAzaZ58+ZKSUlR/fr11blzZz3//PNKTU1VSkqKWrVqVaCYJGMAAAAAAADyMWXKFF28eFGS9Oqrr8rPz0+bN29Wp06dNHz48ALFJBkDAAAAAACQj1tuuUWVK1eWJPn4+Oivf/2r49rPP/+skJAQt2OyZgwAAAAAAEA+EhMTdenSpVzn9+3bp7i4uALFJBkDAAAAAIDZGcXkKIHKlCmjRx55RJcvX3ac++GHHxQXF6dOnToVKCbJGAAAAAAAgHwsXbpUZ86cUffu3WUYhnbt2qW4uDh169ZNkydPLlBMkjEAAAAAAJicxSgeR0kUFBSkFStWaN++ferSpYtatWqlnj176p133ilwTBbwBQAAAAAAuEJGRobTax8fHy1atEht2rRRp06d9NprrznaWK1Wt+OTjAEAAAAAALhCuXLlZLFYcp03DEPTp0/XjBkzZBiGLBaLbDab2/FJxgAAAAAA3GJPv92ldj7hPxZxT+CkhE4T8oa1a9cWaXySMQAAAAAAAFdo0aJFkcYnGQMAAAAAAHCFHTt2uNw2JibG7fgkYwAAAAAAMDtD3p+m5O37F6KGDRvKYrHIMK79UKwZAwAAAAAAUAgOHjxYpPFJxgAAAAAAAFwhMjKySOOTjAEAAAAAwOQsRvbh7T6UZHv27NHhw4eVmZnpdL5du3ZuxyIZAwAAAAAAkI8DBw7okUce0c6dO53WkbFYLJJUoDVjfAq1hwAAAAAAwPOMYnKUQM8//7yioqJ0/PhxlSpVSrt379aGDRt01113ad26dQWKSWUMAAAAAABAPtLS0pSamqpbb71VPj4+8vHx0X333afk5GQNGjRI27ZtczsmyRgAAAAAgFt8wn/0dhcAj7HZbAoODpYk3Xrrrfrtt99Uq1YtRUZGat++fQWKSTIGAAAAAACTYwHfolOvXj19//33ioqK0j333KMJEybI399fM2fO1G233VagmCRjAAAAAAAA8jF8+HCdO3dOkjRmzBj95S9/0f33368KFSpo0aJFBYpJMsak+mzpc902c5rM8UBPAAAAAAAouRISEhw/16hRQ3v37tXJkycVEhLi2FFJkn799VdVrlxZPj7X3yuJ3ZQAAAAAADA7b++iVIJ3U8pL+fLlnRIxklS3bl0dOnTIpfeTjAEAAAAAALhBhuF6NopkDAAAAAAAgAexZgwAAAAAAGZXHKYJefv+JuLVyphp06YpJiZGVqtVVqtVsbGx+vzzzx3XL168qKSkJFWoUEFlypRRp06ddOzYMacYhw8fVmJiokqVKqXQ0FC99NJLunz5slObdevW6c4771RAQIBq1KihuXPneuLxAAAAAAAAcvFqMqZq1aoaP368tm7dqv/85z964IEH1L59e+3evVuSNGTIEH322Wf65JNPtH79ev3222/q2LGj4/02m02JiYnKzMzU5s2bNW/ePM2dO1cjRoxwtDl48KASExPVsmVLbd++XYMHD9ZTTz2lVatWefx5AQAAAAAoChajeBw3s6sX9L0Wr05Tevjhh51ejxs3TtOmTdPXX3+tqlWravbs2Vq4cKEeeOABSdKcOXNUp04dff3112ratKlWr16tPXv2aM2aNQoLC1PDhg01duxYvfLKKxo1apT8/f01ffp0RUVFaeLEiZKkOnXqaNOmTZo0aZLT9lQAAAAAAAAFZcoFfG02mz7++GOdO3dOsbGx2rp1q7KystS6dWtHm9q1a6tatWpKS0uTJKWlpal+/foKCwtztElISFBGRoajuiYtLc0pRk6bnBgAAAAAAAA3as+ePYqMjHSprdcX8N25c6diY2N18eJFlSlTRsuWLVPdunW1fft2+fv7q1y5ck7tw8LClJ6eLklKT093SsTkXM+5dq02GRkZunDhgoKCgnL16dKlS7p06ZLjdUZGhiQpKytLWVlZN/bA+ciJ62r8mQ1nuhwTnuHuGKJ4YhzNjzEsGRhH82MMzY8xLBkYx2w3xfOzgG+hunKJlOtZunSpJCkiIsLl93g9GVOrVi1t375dZ86c0ZIlS9SrVy+tX7/eq31KTk7W6NGjc51fvXq1SpUqVaT3TklJKdL4KHqMYcnAOJofY1gyMI7mxxiaH2NYMtzs43j+/HlvdwEmU7Zs2SKN7/VkjL+/v2rUqCFJaty4sbZs2aLJkyera9euyszM1OnTp52qY44dO6bw8HBJUnh4uL799luneDm7LV3Z5uodmI4dOyar1ZpnVYwkDRs2TEOHDnW8zsjIUEREhOLj42W1Wm/sgfORlZWllJQUtWnTRn5+fkVyDxQtxrBkYBzNjzEsGRhH82MMzY8xLBkYx2w5sx0AV82ZM6dI43s9GXM1u92uS5cuqXHjxvLz89OXX36pTp06SZL27dunw4cPKzY2VpIUGxurcePG6fjx4woNDZWUnfG1Wq2qW7euo83KlSud7pGSkuKIkZeAgAAFBATkOu/n51fkf8A8cQ8ULcawZGAczY8xLBkYR/NjDM2PMSwZbvZxvCmenWlKpuLVZMywYcP00EMPqVq1avrzzz+1cOFCrVu3TqtWrVLZsmX15JNPaujQoSpfvrysVquee+45xcbGqmnTppKk+Ph41a1bVz169NCECROUnp6u4cOHKykpyZFMGTBggKZMmaKXX35Zffv2VWpqqhYvXqwVK1Z489EBAAAAAIBJLFmyRIsXL9bhw4eVmZnpdO27775zO55Xd1M6fvy4evbsqVq1aqlVq1basmWLVq1apTZt2kiSJk2apL/85S/q1KmTmjdvrvDwcMfCOJLk6+ur5cuXy9fXV7GxsXriiSfUs2dPjRkzxtEmKipKK1asUEpKiho0aKCJEydq1qxZbGsNAAAAAACu67333lOfPn0UFhambdu26e6771aFChV04MABPfTQQwWK6dXKmNmzZ1/zemBgoD744AN98MEH+baJjIzMNQ3panFxcdq2bVuB+ggAAAAAQHFnMbIPb/ehJJo6dapmzpypbt26ae7cuXr55Zd12223acSIETp58mSBYnq1MgYAAAAAAKA4O3z4sO69915JUlBQkP78809JUo8ePfTRRx8VKCbJGAAAAAAAzM4oJkcJFB4e7qiAqVatmr7++mtJ0sGDB2UYBXtokjEAAAAAAAD5eOCBB/Tvf/9bktSnTx8NGTJEbdq0UdeuXfXII48UKGax29oaAAAAAACguJg5c6bsdrskKSkpSRUqVNDmzZvVrl079e/fv0AxScYAAAAAAGByLOBbdH799VdFREQ4Xj/22GN67LHHZBiGjhw5omrVqrkdk2lKAAAAAAAA+YiKitLvv/+e6/zJkycVFRVVoJgkYwAAAAAAAPJhGIYsFkuu82fPnlVgYGCBYjJNCQAAAAAAsysOuxl5+/6FbOjQoZIki8Wi1157TaVKlXJcs9ls+uabb9SwYcMCxSYZAwAAAAAAcJVt27ZJyq6M2blzp/z9/R3X/P391aBBA7344osFik0yBgAAAAAA4Cpr166VlL2d9eTJk2W1WgstNskYAAAAAADMjmlKRWbOnDmOn3/99VdJUtWqVW8oJgv4AgAAAAAA5MNut2vMmDEqW7asIiMjFRkZqXLlymns2LGy2+0FikllDAAAAAAAJmf53+HtPpREr776qmbPnq3x48erWbNmkqRNmzZp1KhRunjxosaNG+d2TJIxAAAAAAAA+Zg3b55mzZqldu3aOc7FxMSoSpUqevbZZwuUjGGaEgAAAAAAQD5Onjyp2rVr5zpfu3ZtnTx5skAxScYAAAAAAGB2RjE5SqAGDRpoypQpuc5PmTJFDRo0KFBMpikBAAAAAADkY8KECUpMTNSaNWsUGxsrSUpLS9ORI0e0cuXKAsWkMgYAAAAAACAfLVq00I8//qhHHnlEp0+f1unTp9WxY0ft27dP999/f4FiUhkDAAAAAIDJWYzsw9t9KIkOHz6siIiIPBfqPXz4sKpVq+Z2TCpjAAAAAAAA8hEVFaXff/891/k//vhDUVFRBYpJMgYAAAAAAHhccnKymjRpouDgYIWGhqpDhw7at2+fU5v+/fsrOjpaQUFBqlixotq3b6+9e/c6rn///ffq1q2bIiIiFBQUpDp16mjy5Mm57rVu3TrdeeedCggIUI0aNTR37lyX+2kYhiwWS67zZ8+eVWBgoOsPfAWmKQEAAAAAYHbFYTcjN++/fv16JSUlqUmTJrp8+bL+9re/KT4+Xnv27FHp0qUlSY0bN1b37t1VrVo1nTx5UqNGjVJ8fLwOHjwoX19fbd26VaGhoZo/f74iIiK0efNm9evXT76+vho4cKAk6eDBg0pMTNSAAQO0YMECffnll3rqqadUqVIlJSQk5Nu/oUOHSpIsFotee+01lSpVynHNZrPpm2++UcOGDd176P8hGQMAAAAAADzuiy++cHo9d+5chYaGauvWrWrevLkkqV+/fo7r1atX1+uvv64GDRro0KFDio6OVt++fZ1i3HbbbUpLS9PSpUsdyZjp06crKipKEydOlCTVqVNHmzZt0qRJk66ZjNm2bZuk7MqYnTt3yt/f33HN399fDRo00IsvvligZycZAwAAAABASeDtypj/ycjIcHodEBCggICA677vzJkzkqTy5cvnef3cuXOaM2eOoqKiFBERcc04V8ZIS0tT69atndokJCRo8ODB1+zP2rVrJUl9+vTR5MmTZbVar/sMrmLNGAAAAAAAUGgiIiJUtmxZx5GcnHzd99jtdg0ePFjNmjVTvXr1nK5NnTpVZcqUUZkyZfT5558rJSXFqUrlSps3b9aiRYucKmrS09MVFhbm1C4sLEwZGRm6cOHCdfs2Z86cQk3ESFTGAAAAAACAQnTkyBGn5IUrVTFJSUnatWuXNm3alOta9+7d1aZNGx09elRvv/22unTpoq+++irX4rm7du1S+/btNXLkSMXHx9/4gxQhkjEAAAAAAJicxcg+vN0HSbJarW5VkgwcOFDLly/Xhg0bVLVq1VzXcypsatasqaZNmyokJETLli1Tt27dHG327NmjVq1aqV+/fho+fLjT+8PDw3Xs2DGnc8eOHZPValVQUJAbT1h4mKYEAAAAAAA8zjAMDRw4UMuWLVNqaqqioqJceo9hGLp06ZLj3O7du9WyZUv16tVL48aNy/We2NhYffnll07nUlJSFBsbe+MPUUBUxgAAAAAAAI9LSkrSwoUL9emnnyo4OFjp6emSsithgoKCdODAAS1atEjx8fGqWLGifv31V40fP15BQUFq27atpOypSQ888IASEhI0dOhQRwxfX19VrFhRkjRgwABNmTJFL7/8svr27avU1FQtXrxYK1as8M6Di8oYAAAAAADMzygmhxumTZumM2fOKC4uTpUqVXIcixYtkiQFBgZq48aNatu2rWrUqKGuXbsqODhYmzdvVmhoqCRpyZIl+v333zV//nynGE2aNHHcJyoqSitWrFBKSooaNGigiRMnatasWdfc1rqoURkDAAAAAAA8zjCunb2pXLmyVq5cec02o0aN0qhRo657r7i4OG3bts2d7hUpKmMAAAAAAAA8iMoYAAAAAABMrjjtpoTrozIGAAAAAADAg6iMAQAAAADA7AqwgG6R9AEuoTIGAAAAAADAg0jGAAAAAAAAeBDTlAAAAAAAMDkW8DUXKmMAAAAAAAA8iGQMAAAAAACABzFNCQAAAAAAs2M3JVOhMgYAAAAAAMCDSMYAAAAAAAB4ENOUAAAAAAAwO6YpmQqVMQAAAAAAAB5EZQwAAAAAACZnMbIPb/cBrqEyBgAAAAAAwINIxgAAAAAAAHgQ05QAAAAAADA7FvA1FSpjAAAAAAAAPIhkDAAAAAAAgAcxTQkAAAAAAJOzGIYshnfnCXn7/mZCZQwAAAAAAIAHkYwBAAAAAADwIKYpAQAAAABgduymZCpUxgAAAAAAAHgQlTEAAAAAAJicxcg+vN0HuIbKGAAAAAAAAA8iGQMAAAAAAOBBTFMCAAAAAMDsWMDXVKiMAQAAAAAA8CCSMQAAAAAAAB7ENCUAAAAAAEyO3ZTMhcoYAAAAAAAADyIZAwAAAAAA4EFMUwIAAAAAwOzYTclUqIwBAAAAAADwICpjAAAAAAAwORbwNRcqYwAAAAAAADyIZAwAAAAAAIAHMU0JAAAAAACzYwFfU6EyBgAAAAAAwINIxgAAAAAAAHgQ05QAAAAAACgB2M3IPKiMAQAAAAAA8CCSMQAAAAAAAB7ENCUAAAAAAMzOMLIPb/cBLqEyBgAAAAAAwIOojAEAAAAAwOQshvcX8PX2/c2EyhgAAAAAAAAPIhkDAAAAAADgQUxTAgAAAADA7Iz/Hd7uA1xCZQwAAAAAAIAHkYwBAAAAAADwIKYpAQAAAABgchZ79uHtPsA1JGMAAAAAoBBcOnqbS+0CKh0o4p4AKO6YpgQAAAAAAOBBVMYAAAAAAGB27KZkKlTGAAAAAAAAeBCVMQAAAAAAmJzFyD683Qe4hsoYAAAAAAAADyIZAwAAAAAA4EFMUwIAAAAAwOwMI/vwdh/gEipjAAAAAAAAPIhkDAAAAAAAgAcxTQkAAAAACkFApQPe7gJuYuymZC4kYwAAAADApNL/W/ma1y/bAiVN8kxnALiMaUoAAAAAAAAeRGUMAAAAAABmZ/zv8HYf4BIqYwAAAAAAADyIyhgAAAAAAEyOBXzNhcoYAAAAAAAADyIZAwAAAAAA4EFMUwIAAAAAwOwMI/vwdh/gEipjAAAAAAAAPIjKGAAAAAAwqfAqv13zelZWlrRtpYd6A8BVJGMAAAAAADA5dlMyF6YpAQAAAAAAeBDJGAAAAAAAAA9imhIAAAAAAGZn/O/wdh/gEipjAAAAAAAAPIjKGAAAAAAATI4FfM2FyhgAAAAAAAAPIhkDAAAAAADgQUxTAgAAAADA7OxG9uHtPsAlVMYAAAAAAAB4EMkYAAAAAAAAD2KaEgAAAAAAZmf87/B2H+ASKmMAAAAAAAA8iGQMAAAAAACAB3k1GZOcnKwmTZooODhYoaGh6tChg/bt2+fUJi4uThaLxekYMGCAU5vDhw8rMTFRpUqVUmhoqF566SVdvnzZqc26det05513KiAgQDVq1NDcuXOL+vEAAAAAAPAIiySL4eXD2x+CiXg1GbN+/XolJSXp66+/VkpKirKyshQfH69z5845tXv66ad19OhRxzFhwgTHNZvNpsTERGVmZmrz5s2aN2+e5s6dqxEjRjjaHDx4UImJiWrZsqW2b9+uwYMH66mnntKqVas89qwAAAAAAACSlxfw/eKLL5xez507V6Ghodq6dauaN2/uOF+qVCmFh4fnGWP16tXas2eP1qxZo7CwMDVs2FBjx47VK6+8olGjRsnf31/Tp09XVFSUJk6cKEmqU6eONm3apEmTJikhIaHoHhAAAAAAAE8wjOzD232AS4rVbkpnzpyRJJUvX97p/IIFCzR//nyFh4fr4Ycf1muvvaZSpUpJktLS0lS/fn2FhYU52ickJOiZZ57R7t271ahRI6Wlpal169ZOMRMSEjR48OA8+3Hp0iVdunTJ8TojI0OSlJWVpaysrBt+zrzkxC2q+Ch6jGHJwDiaH2NYMjCO5scYmh9jWDIwjtlu9udH8VNskjF2u12DBw9Ws2bNVK9ePcf5xx9/XJGRkapcubJ27NihV155Rfv27dPSpUslSenp6U6JGEmO1+np6ddsk5GRoQsXLigoKMjpWnJyskaPHp2rj6tXr3YkgYpKSkpKkcZH0WMMSwbG0fwYw5KBcTQ/xtD8GMOS4WYfx/Pnz3u7C4CTYpOMSUpK0q5du7Rp0yan8/369XP8XL9+fVWqVEmtWrXS/v37FR0dXSR9GTZsmIYOHep4nZGRoYiICMXHx8tqtRbJPbOyspSSkqI2bdrIz8+vSO6BosUYlgyMo/kxhiUD42h+jKH5MYYlA+OYLWe2Q0mWs4iut/sA1xSLZMzAgQO1fPlybdiwQVWrVr1m23vuuUeS9PPPPys6Olrh4eH69ttvndocO3ZMkhzrzISHhzvOXdnGarXmqoqRpICAAAUEBOQ67+fnV+R/wDxxDxQtxrBkYBzNjzEsGRhH82MMzY8xLBlu9nG8mZ8dxZNXd1MyDEMDBw7UsmXLlJqaqqioqOu+Z/v27ZKkSpUqSZJiY2O1c+dOHT9+3NEmJSVFVqtVdevWdbT58ssvneKkpKQoNja2kJ4EAAAAAADANV5NxiQlJWn+/PlauHChgoODlZ6ervT0dF24cEGStH//fo0dO1Zbt27VoUOH9O9//1s9e/ZU8+bNFRMTI0mKj49X3bp11aNHD33//fdatWqVhg8frqSkJEd1y4ABA3TgwAG9/PLL2rt3r6ZOnarFixdryJAhXnt2AAAAAAAKjVFMDrjEq8mYadOm6cyZM4qLi1OlSpUcx6JFiyRJ/v7+WrNmjeLj41W7dm298MIL6tSpkz777DNHDF9fXy1fvly+vr6KjY3VE088oZ49e2rMmDGONlFRUVqxYoVSUlLUoEEDTZw4UbNmzWJbawAAAAAA4HFeXTPGuM4e5BEREVq/fv1140RGRmrlypXXbBMXF6dt27a51T8AAAAAAIDCViwW8AUAAAAAAAVnMQxZrlPw4Ik+wDVenaYEAAAAAABws6EyBgAAAAAAs7P/7/B2H+ASKmMAAAAAAAA8iGQMAAAAAACABzFNCQAAAAAAk2MBX3OhMgYAAAAAAMCDSMYAAAAAAAB4ENOUAAAAAAAwO+N/h7f7AJdQGQMAAAAAAOBBJGMAAAAAAAA8iGlKAAAAAACYnWFkH97uA1xCZQwAAAAAAIAHURkDAAAAAIDJWYzsw9t9gGuojAEAAAAAAPAgkjEAAAAAAAAexDQlAAAAAADMjgV8TYXKGAAAAAAAAA8iGQMAAAAAAOBBTFMCAAAAAMDkLPbsw9t9gGuojAEAAAAAAPAgkjEAAAAAAAAexDQlAAAAAADMjt2UTIXKGAAAAAAAAA+iMgYAAAAAALMz/nd4uw9wCZUxAAAAAAAAHkQyBgAAAAAAwIOYpgQAAAAAgMlZDEMWLy+g6+37mwmVMQAAAAAAAB5EMgYAAAAAAMCDmKYEAAAAAIDZGUb24e0+wCVUxgAAAAAAAHgQyRgAAAAAAOBxycnJatKkiYKDgxUaGqoOHTpo3759Tm369++v6OhoBQUFqWLFimrfvr327t3r1Obw4cNKTExUqVKlFBoaqpdeekmXL192arNu3TrdeeedCggIUI0aNTR37tyifrxrIhkDAAAAAIDZGZLsXj7cnKW0fv16JSUl6euvv1ZKSoqysrIUHx+vc+fOOdo0btxYc+bM0Q8//KBVq1bJMAzFx8fLZrNJkmw2mxITE5WZmanNmzdr3rx5mjt3rkaMGOGIcfDgQSUmJqply5bavn27Bg8erKeeekqrVq1yr8OFiDVjAAAAAACAx33xxRdOr+fOnavQ0FBt3bpVzZs3lyT169fPcb169ep6/fXX1aBBAx06dEjR0dFavXq19uzZozVr1igsLEwNGzbU2LFj9corr2jUqFHy9/fX9OnTFRUVpYkTJ0qS6tSpo02bNmnSpElKSEjw3ANfgcoYAAAAAABMzmIYxeKQpIyMDKfj0qVLLj3DmTNnJEnly5fP8/q5c+c0Z84cRUVFKSIiQpKUlpam+vXrKywszNEuISFBGRkZ2r17t6NN69atnWIlJCQoLS3NvQ+5EJGMAQAAAAAAhSYiIkJly5Z1HMnJydd9j91u1+DBg9WsWTPVq1fP6drUqVNVpkwZlSlTRp9//rlSUlLk7+8vSUpPT3dKxEhyvE5PT79mm4yMDF24cKHAz3kjmKYEAAAAAAAKzZEjR2S1Wh2vAwICrvuepKQk7dq1S5s2bcp1rXv37mrTpo2OHj2qt99+W126dNFXX32lwMDAQu23J5GMAQAAAADA7AxJhpsr6BZFHyRZrVanZMz1DBw4UMuXL9eGDRtUtWrVXNdzKmxq1qyppk2bKiQkRMuWLVO3bt0UHh6ub7/91qn9sWPHJEnh4eGO/5tz7so2VqtVQUFB7jxhoWGaEgAAAAAA8DjDMDRw4EAtW7ZMqampioqKcuk9hmE41qGJjY3Vzp07dfz4cUeblJQUWa1W1a1b19Hmyy+/dIqTkpKi2NjYQnwa95CMAQAAAAAAHpeUlKT58+dr4cKFCg4OVnp6utLT0x3ruBw4cEDJycnaunWrDh8+rM2bN6tz584KCgpS27ZtJUnx8fGqW7euevTooe+//16rVq3S8OHDlZSU5JgeNWDAAB04cEAvv/yy9u7dq6lTp2rx4sUaMmSI156dZAwAAAAAAGZnGMXjcMO0adN05swZxcXFqVKlSo5j0aJFkqTAwEBt3LhRbdu2VY0aNdS1a1cFBwdr8+bNCg0NlST5+vpq+fLl8vX1VWxsrJ544gn17NlTY8aMcdwnKipKK1asUEpKiho0aKCJEydq1qxZXtvWWmLNGAAAAAAA4AXGdZI3lStX1sqVK68bJzIy8rrt4uLitG3bNrf6V5SojAEAAAAAAPAgKmMAAAAAADA7u/T/2rv34Kjq+//jrwVyw5BwTUKEACoaKKChOBJsFRTDUEalMmqpUhArQ4xAtIOAIpE6ArZWh1HAqVpgKojYclFAAuVmuShFAiTaAnIRLATaQki4x+z79we/rC5hk41fc3bP5vmY2Rly9pPPee++ZkN48/mcI08Y1ICgsDIGAAAAAADAQayMAQAAAADA5Txm8tTyArp1UQOCw8oYAAAAAAAAB9GMAQAAAAAAcBDblAAAAAAAcDuzS49Q14CgsDIGAAAAAADAQTRjAAAAAAAAHMQ2JQAAAAAA3I5tSq7CyhgAAAAAAAAH0YwBAAAAAABwENuUAAAAAABwO7YpuQorYwAAAAAAABzEyhgAAAAAANzOK8kTBjUgKKyMAQAAAAAAcBDNGAAAAAAAAAexTQkAAAAAAJfzmMkT4gvohvr8bsLKGAAAAAAAAAfRjAEAAAAAAHAQ25QAAAAAAHA7s0uPUNeAoLAyBgAAAAAAwEE0YwAAAAAAABzENiUAAAAAANzOa5InxNuEvGxTChYrYwAAAAAAABzEyhgAAAAAANyOC/i6CitjAAAAAAAAHEQzBgAAAAAAwEFsUwIAAAAAwPXCYJuSQn1+92BlDAAAAAAAgINoxgAAAAAAADiIbUoAAAAAALgdd1NyFVbGAAAAAAAAOIhmDAAAAAAAgIPYpgQAAAAAgNt5TSG/m5GXbUrBYmUMAAAAAACAg1gZAwAAAACA25n30iPUNSAorIwBAAAAAABwEM0YAAAAAAAAB7FNCQAAAAAAtzO79Ah1DQgKK2MAAAAAAAAcRDMGAAAAAADAQWxTAgAAAADA7bwmKcTbhLxsUwoWK2MAAAAAAAAcRDMGAAAAAADAQWxTAgAAAADA7bibkquwMgYAAAAAAMBBrIwBAAAAAMDtTKFfmcLCmKCxMgYAAAAAAMBBNGMAAAAAAAAcxDYlAAAAAADcjgv4ugorYwAAAAAAABxEMwYAAAAAAMBBbFMCAAAAAMDtvF5J3jCoAcFgZQwAAAAAAICDaMYAAAAAAAA4iG1KAAAAAAC4HXdTchVWxgAAAAAAADiIlTEAAAAAALgdK2NchZUxAAAAAAAADqIZAwAAAAAA4CC2KQEAAAAA4HZekxTibUJetikFi5UxAAAAAAAADmJlDAAAAICIU3i4TVDjurb9uo4rAYCqaMYAAAAAAOByZl6ZeUNeA4LDNiUAAAAAAAAH0YwBAAAAAABwENuUAAAAAABwO7PQ383IuJtSsFgZAwAAAAAA4CBWxgAAAAAA4HZmklgZ4xasjAEAAAAAAHAQzRgAAAAAAAAHsU0JAAAAAAC383oljze0NViIz+8iNGMAAAAARJyubb8OdQkAEBDblAAAAAAAABzEyhgAAAAAANyOuym5CitjAAAAAAAAHBTSZszUqVN18803q0mTJkpKStLAgQO1e/duvzHnz59XTk6OWrRoofj4eA0aNEjHjh3zG3Po0CENGDBAjRs3VlJSksaOHatvvvnGb8z69evVvXt3xcTE6LrrrtOcOXPq+uUBAAAAAABUEdJmzIYNG5STk6NPPvlEq1evVnl5ubKysnTmzBnfmCeffFIffvih3n//fW3YsEFHjhzRfffd53u+oqJCAwYM0MWLF7V582bNnTtXc+bM0aRJk3xjDhw4oAEDBqhPnz7asWOHcnNz9etf/1r5+fmOvl4AAAAAAOqCeb1h8UBwQnrNmJUrV/p9PWfOHCUlJemzzz7TbbfdplOnTuntt9/W/Pnzdccdd0iSZs+erU6dOumTTz5Rz549tWrVKn3xxRf629/+puTkZN1000164YUXNG7cOD3//POKjo7WG2+8oQ4dOugPf/iDJKlTp07auHGjXn31VfXr18/x1w0AAAAAAOqvsLqA76lTpyRJzZs3lyR99tlnKi8vV9++fX1j0tPTlZaWpi1btqhnz57asmWLunbtquTkZN+Yfv36KTs7W59//rkyMjK0ZcsWvzkqx+Tm5l6xjgsXLujChQu+r0tLSyVJ5eXlKi8v/0Fe6+Uq562r+VH3yDAykKP7kWFkIEf3I0P3I8PIQI6X1IvXzwV8XSVsmjFer1e5ubm69dZb1aVLF0lScXGxoqOj1bRpU7+xycnJKi4u9o35biOm8vnK56obU1paqnPnzikuLs7vualTp2ry5MlValy1apUaN278/V9kEFavXl2n86PukWFkIEf3I8PIQI7uR4buR4aRob7nePbs2VCXAPgJm2ZMTk6OioqKtHHjxlCXogkTJuipp57yfV1aWqq2bdsqKytLCQkJdXLO8vJyrV69WnfddZeioqLq5ByoW2QYGcjR/cgwMpCj+5Gh+5FhZCDHSyp3OwDhIiyaMU888YSWLVumjz/+WG3atPEdT0lJ0cWLF1VSUuK3OubYsWNKSUnxjdm6davffJV3W/rumMvvwHTs2DElJCRUWRUjSTExMYqJialyPCoqqs5/gDlxDtQtMowM5Oh+ZBgZyNH9yND9yDAy1Pcc68Vr95rkYZuSW4T0bkpmpieeeEKLFy/W2rVr1aFDB7/nf/zjHysqKkpr1qzxHdu9e7cOHTqkzMxMSVJmZqYKCwt1/Phx35jVq1crISFBnTt39o357hyVYyrnAAAAAAAAcEpIV8bk5ORo/vz5Wrp0qZo0aeK7xktiYqLi4uKUmJioRx99VE899ZSaN2+uhIQEjRo1SpmZmerZs6ckKSsrS507d9aQIUP0u9/9TsXFxZo4caJycnJ8q1tGjhyp119/XU8//bSGDx+utWvXauHChVq+fHnIXjsAAAAAAKifQtqMmTVrliSpd+/efsdnz56tYcOGSZJeffVVNWjQQIMGDdKFCxfUr18/zZw50ze2YcOGWrZsmbKzs5WZmamrrrpKQ4cO1W9/+1vfmA4dOmj58uV68sknNX36dLVp00ZvvfUWt7UGAAAAAEQGM0neMKgBwQhpM8aCCCo2NlYzZszQjBkzAo5p166dVqxYUe08vXv3VkFBQa1rBAAAAAAA+CGF9JoxAAAAAAAA9U1Y3E0JAAAAAAB8f+Y1WYjvphTM7hdcwsoYAAAAAAAAB7EyBgAAAAAAtzOvQn8B3xCf30VYGQMAAAAAAOAgmjEAAAAAAAAOYpsSAAAAAAAuxwV83YWVMQAAAAAAAA6iGQMAAAAAAOAgtikBAAAAAOB23E3JVVgZAwAAAAAA4CBWxgSh8iJEpaWldXaO8vJynT17VqWlpYqKiqqz86DukGFkIEf3I8PIQI7uR4buR4aRgRwvqfy3XCRfYPYblUshfnnfqDy0BbgIzZgglJWVSZLatm0b4koAAAAAAN9XWVmZEhMTQ13GDyo6OlopKSnaWLwi1KVIklJSUhQdHR3qMsKexyK5NfgD8Xq9OnLkiJo0aSKPx1Mn5ygtLVXbtm11+PBhJSQk1Mk5ULfIMDKQo/uRYWQgR/cjQ/cjw8hAjpeYmcrKypSamqoGDSLvah3nz5/XxYsXQ12GpEvNodjY2FCXEfZYGROEBg0aqE2bNo6cKyEhoV7/kIwEZBgZyNH9yDAykKP7kaH7kWFkIEdF3IqY74qNjaUB4jKR1xIEAAAAAAAIYzRjAAAAAAAAHEQzJkzExMQoLy9PMTExoS4F3xMZRgZydD8yjAzk6H5k6H5kGBnIEQhPXMAXAAAAAADAQayMAQAAAAAAcBDNGAAAAAAAAAfRjAEAAAAAAHBQvWvGTJ06VTfffLOaNGmipKQkDRw4ULt37/Ybc/78eeXk5KhFixaKj4/XoEGDdOzYMd/zO3fu1ODBg9W2bVvFxcWpU6dOmj59esBzbtq0SY0aNdJNN91UY31mpkmTJql169aKi4tT3759tXfvXr8x99xzj9LS0hQbG6vWrVtryJAhOnLkSLXzLlq0SHfddZdatWqlhIQEZWZmKj8/32/Mxx9/rLvvvlupqanyeDxasmRJjfWGCjkGzjGY9yYckGHgDGfNmqVu3bopISHBN+ajjz6qsWankWHgDL9r2rRp8ng8ys3NrbHmUCDHwDk+//zz8ng8fo/09PQaa3YaGVb/Wfz3v/+thx9+WC1atFBcXJy6du2qbdu21Vi3k8gwcIbt27ev8jn0eDzKycmpsW6nkWPgHCsqKvTcc8+pQ4cOiouL07XXXqsXXnhBXL4U9ZrVM/369bPZs2dbUVGR7dixw372s59ZWlqanT592jdm5MiR1rZtW1uzZo1t27bNevbsab169fI9//bbb9vo0aNt/fr1tm/fPvvzn/9scXFx9tprr1U538mTJ+2aa66xrKwsu/HGG2usb9q0aZaYmGhLliyxnTt32j333GMdOnSwc+fO+ca88sortmXLFjt48KBt2rTJMjMzLTMzs9p5x4wZYy+99JJt3brV9uzZYxMmTLCoqCjbvn27b8yKFSvs2WeftUWLFpkkW7x4cY31hgo5Bs4xmPcmHJBh4Aw/+OADW758ue3Zs8d2795tzzzzjEVFRVlRUVGNdTuJDANnWGnr1q3Wvn1769atm40ZM6bGmkOBHAPnmJeXZz/60Y/s6NGjvsd//vOfGmt2GhkGzvDEiRPWrl07GzZsmH366ae2f/9+y8/Pty+//LLGup1EhoEzPH78uN9ncPXq1SbJ1q1bV2PdTiPHwDm++OKL1qJFC1u2bJkdOHDA3n//fYuPj7fp06fXWDcQqepdM+Zyx48fN0m2YcMGMzMrKSmxqKgoe//9931j/vnPf5ok27JlS8B5Hn/8cevTp0+V4w8++KBNnDjR8vLyavwh6fV6LSUlxX7/+9/7jpWUlFhMTIy9++67Ab9v6dKl5vF47OLFi9XOf7nOnTvb5MmTr/hcuDdjLkeOV87RrOp7E67IMHCGZmbNmjWzt956q1bzOo0M/TMsKyuzjh072urVq+32228P22bM5cjx2xyDqTEckeG3GY4bN85+8pOf1GqOcECGgf9OHDNmjF177bXm9XprNW8okOO3OQ4YMMCGDx/uN+a+++6zhx56qFbzApGk3m1TutypU6ckSc2bN5ckffbZZyovL1ffvn19Y9LT05WWlqYtW7ZUO0/lHJVmz56t/fv3Ky8vL6haDhw4oOLiYr9zJyYm6pZbbgl47hMnTmjevHnq1auXoqKigjqPJHm9XpWVlVWp2a3IMXCOl7834YoMr5xPRUWFFixYoDNnzigzMzPoeUOBDP1rzsnJ0YABA/xqcANy9K957969Sk1N1TXXXKOHHnpIhw4dCnrOUCHDb2v+4IMP1KNHD91///1KSkpSRkaG3nzzzaDnDBUyvPLfiRcvXtQ777yj4cOHy+PxBD1vqJDjtzX36tVLa9as0Z49eyRd2o61ceNG9e/fP+h5gUhTr5sxXq9Xubm5uvXWW9WlSxdJUnFxsaKjo9W0aVO/scnJySouLr7iPJs3b9Z7772nESNG+I7t3btX48eP1zvvvKNGjRoFVU/l/MnJyTWee9y4cbrqqqvUokULHTp0SEuXLg3qHJVefvllnT59Wg888ECtvi8ckWPgHK/03oQjMqyaYWFhoeLj4xUTE6ORI0dq8eLF6ty5c63mdhIZ+me4YMECbd++XVOnTq3VXKFGjv453nLLLZozZ45WrlypWbNm6cCBA/rpT3+qsrKyWs3tJDL0z3D//v2aNWuWOnbsqPz8fGVnZ2v06NGaO3dureZ2EhkG/r1myZIlKikp0bBhw2o1byiQo3+O48eP1y9+8Qulp6crKipKGRkZys3N1UMPPVSruYFIUq+bMTk5OSoqKtKCBQu+9xxFRUW69957lZeXp6ysLEmX/if7l7/8pSZPnqzrr7/+it83b948xcfH+x5///vfa3XesWPHqqCgQKtWrVLDhg31q1/9yncBrO/OO3LkyCrfO3/+fE2ePFkLFy5UUlJSLV9x+CHHwDn+EO+NE8iwaoY33HCDduzYoU8//VTZ2dkaOnSovvjii1rV5iQy/DbDw4cPa8yYMZo3b55iY2NrVUuokaP/Z7F///66//771a1bN/Xr108rVqxQSUmJFi5cWKvanESG/hl6vV51795dU6ZMUUZGhkaMGKHHHntMb7zxRq1qcxIZBv695u2331b//v2Vmppaq7pCgRz9c1y4cKHmzZun+fPna/v27Zo7d65efvnlsG6MAnUudDukQisnJ8fatGlj+/fv9zu+Zs0ak2QnT570O56WlmavvPKK37HPP//ckpKS7JlnnvE7fvLkSZNkDRs29D08Ho/v2Jo1a6y0tNT27t3re5w9e9b27dtnkqygoMBvvttuu81Gjx4d8LUcPnzYJNnmzZvNzPzmPXbsmN/Yd9991+Li4mzZsmXVvj9yyTVjyDFwjoHem3BDhtV/FivdeeedNmLEiKDGOo0M/TNcvHhxlZolmcfjsYYNG9o333wT8PyhRI7BfRZ79Ohh48ePD2qs08iwaoZpaWn26KOP+h2bOXOmpaamBjx3KJFh4M/hwYMHrUGDBrZkyZKAY8IFOVbNsU2bNvb666/7HXvhhRfshhtuCHhuINLVu2aM1+u1nJwcS01NtT179lR5vvLCWn/5y198x/71r39VubBWUVGRJSUl2dixY6vMUVFRYYWFhX6P7Oxsu+GGG6ywsDDgXW0qL6z18ssv+46dOnWqxgtrffXVV0FdVX7+/PkWGxsb1F9i4d6MIcfAOdb03oQLMgzus1ipT58+NnTo0KDHO4EMr5xhaWlplZp79OhhDz/8sBUWFlY7byiQY/CfxbKyMmvWrFnY3f2DDANnOHjw4CoX8M3Nza3x7jBOI8OaP4d5eXmWkpJi5eXl1Y4LJXIMnGPz5s1t5syZfsemTJliHTt2rHZeIJLVu2ZMdna2JSYm2vr16/1uk3f27FnfmJEjR1paWpqtXbvWtm3bVuWWboWFhdaqVSt7+OGH/eY4fvx4wPMGe0eGadOmWdOmTW3p0qW2a9cuu/fee/1uOffJJ5/Ya6+9ZgUFBXbw4EFbs2aN9erVy6699lo7f/58wHnnzZtnjRo1shkzZvjVXFJS4htTVlZmBQUFVlBQYJLslVdesYKCAvvqq69qrNtp5Bg4x2Dem3BAhoEzHD9+vG3YsMEOHDhgu3btsvHjx5vH47FVq1bVWLeTyDBwhpcL57spkWPgHH/zm9/Y+vXr7cCBA7Zp0ybr27evtWzZstrXFQpkGDjDrVu3WqNGjezFF1+0vXv32rx586xx48b2zjvv1Fi3k8iw+p+nFRUVlpaWZuPGjaux1lAix8A5Dh061K6++mrfra0XLVpkLVu2tKeffrrGuoFIVe+aMZKu+Jg9e7ZvzLlz5+zxxx+3Zs2aWePGje3nP/+5HT161Pd8Xl7eFedo165dwPMG+0PS6/Xac889Z8nJyRYTE2N33nmn7d692/f8rl27rE+fPta8eXOLiYmx9u3b28iRI+3rr7+udt7bb7/9ijV/93/a161bV+OYcEGOgTMK5r0JB2QYOMPhw4dbu3btLDo62lq1amV33nln2DVizMiwNj8rw7kZQ46Bc3zwwQetdevWFh0dbVdffbU9+OCD9uWXX9ZYs9PIsPrP4ocffmhdunSxmJgYS09Ptz/+8Y811uw0Mqw+w/z8fJPkd85wRI6BcywtLbUxY8ZYWlqaxcbG2jXXXGPPPvusXbhwoca6gUjlMfv/V2MCAAAAAABAnavXd1MCAAAAAABwGs0YAAAAAAAAB9GMAQAAAAAAcBDNGAAAAAAAAAfRjAEAAAAAAHAQzRgAAAAAAAAH0YwBAAAAAABwEM0YAAAAAAAAB9GMAQCgnhg2bJgGDhwY6jIAAADqvUahLgAAAPzfeTyeap/Py8vT9OnTZWYOVQQAAIBAaMYAABABjh496vvze++9p0mTJmn37t2+Y/Hx8YqPjw9FaQAAALgM25QAAIgAKSkpvkdiYqI8Ho/fsfj4+CrblHr37q1Ro0YpNzdXzZo1U3Jyst58802dOXNGjzzyiJo0aaLrrrtOH330kd+5ioqK1L9/f8XHxys5OVlDhgzRf//7X4dfMQAAgHvRjAEAoB6bO3euWrZsqa1bt2rUqFHKzs7W/fffr169emn79u3KysrSkCFDdPbsWUlSSUmJ7rjjDmVkZGjbtm1auXKljh07pgceeCDErwQAAMA9aMYAAFCP3XjjjZo4caI6duyoCRMmKDY2Vi1bttRjjz2mjh07atKkSfrf//6nXbt2SZJef/11ZWRkaMqUKUpPT1dGRob+9Kc/ad26ddqzZ0+IXw0AAIA7cM0YAADqsW7duvn+3LBhQ7Vo0UJdu3b1HUtOTpYkHT9+XJK0c+dOrVu37orXn9m3b5+uv/76Oq4YAADA/WjGAABQj0VFRfl97fF4/I5V3qXJ6/VKkk6fPq27775bL730UpW5WrduXYeVAgAARA6aMQAAIGjdu3fXX//6V7Vv316NGvFrBAAAwPfBNWMAAEDQcnJydOLECQ0ePFj/+Mc/tG/fPuXn5+uRRx5RRUVFqMsDAABwBZoxAAAgaKmpqdq0aZMqKiqUlZWlrl27Kjc3V02bNlWDBvxaAQAAEAyPmVmoiwAAAAAAAKgv+C8sAAAAAAAAB9GMAQAAAAAAcBDNGAAAAAAAAAfRjAEAAAAAAHAQzRgAAAAAAAAH0YwBAAAAAABwEM0YAAAAAAAAB9GMAQAAAAAAcBDNGAAAAAAAAAfRjAEAAAAAAHAQzRgAAAAAAAAH0YwBAAAAAABw0P8DsTV4F35NeI4AAAAASUVORK5CYII=\n",
                  "text/plain": "<Figure size 1200x800 with 2 Axes>"
                },
                "metadata": {},
                "output_type": "display_data"
              }
            ]
          }
        }
      }
    }
  },
  "nbformat": 4,
  "nbformat_minor": 0
}
