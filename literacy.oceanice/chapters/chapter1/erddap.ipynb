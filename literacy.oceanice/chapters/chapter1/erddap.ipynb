{
 "cells": [
  {
   "cell_type": "markdown",
   "metadata": {},
   "source": [
    "# Erddap"
   ]
  },
  {
   "cell_type": "markdown",
   "metadata": {},
   "source": [
    "[<img src=\"https://colab.research.google.com/img/colab_favicon_256px.png\" height=\"35px\" align=CENTER> Open in Google Colab ](https://colab.research.google.com/drive/1461p9KpBWZcjm56vIDLtX_qPvEudk-_j)<br>\n",
    "<sub>(To open link in new tab press Ctrl + click)</sub>"
   ]
  }
 ],
 "metadata": {
  "language_info": {
   "name": "python"
  }
 },
 "nbformat": 4,
 "nbformat_minor": 2
}
